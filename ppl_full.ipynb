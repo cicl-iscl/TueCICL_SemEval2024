{
 "cells": [
  {
   "cell_type": "code",
   "execution_count": 171,
   "metadata": {},
   "outputs": [],
   "source": [
    "from transformers import GPT2Tokenizer, AutoModelForCausalLM\n",
    "from torch.nn.functional import log_softmax\n",
    "import torch\n",
    "import numpy as np\n",
    "import json\n",
    "from tqdm import tqdm\n",
    "from nltk.tokenize import sent_tokenize\n",
    "from matplotlib import pyplot as plt\n",
    "from sklearn.preprocessing import StandardScaler"
   ]
  },
  {
   "cell_type": "code",
   "execution_count": 172,
   "metadata": {},
   "outputs": [
    {
     "data": {
      "text/plain": [
       "device(type='mps')"
      ]
     },
     "execution_count": 172,
     "metadata": {},
     "output_type": "execute_result"
    }
   ],
   "source": [
    "def get_device():\n",
    "    if torch.cuda.is_available():\n",
    "        return torch.device('cuda')\n",
    "    elif torch.backends.mps.is_available() and torch.backends.mps.is_built():\n",
    "        return torch.device('mps')\n",
    "    else:\n",
    "        return torch.device('cpu')\n",
    "\n",
    "device = get_device()\n",
    "device"
   ]
  },
  {
   "cell_type": "code",
   "execution_count": 186,
   "metadata": {},
   "outputs": [],
   "source": [
    "model = AutoModelForCausalLM.from_pretrained('gpt2')\n",
    "model.to(device)\n",
    "tokenizer = GPT2Tokenizer.from_pretrained('gpt2')\n",
    "bos = tokenizer.bos_token_id\n",
    "eos = tokenizer.eos_token_id"
   ]
  },
  {
   "cell_type": "code",
   "execution_count": 187,
   "metadata": {},
   "outputs": [
    {
     "data": {
      "text/plain": [
       "([15496, 6894, 0, 1212, 271, 64, 9288, 13],\n",
       " [0, 1, 1, 2, 3, 4, 5, 5],\n",
       " [0, 0, 0, 1, 1, 1, 1, 1])"
      ]
     },
     "execution_count": 187,
     "metadata": {},
     "output_type": "execute_result"
    }
   ],
   "source": [
    "def encode(string):\n",
    "    ids, words_ids, sentence_ids = [], [], []\n",
    "    sentences = sent_tokenize(string, language='english')\n",
    "    token_idx = 0\n",
    "    for sent_id, sentence in enumerate(sentences):\n",
    "        tokens = sentence.split(\" \")\n",
    "        for token in tokens:\n",
    "            token_ids = tokenizer.encode(token, add_special_tokens=False)\n",
    "            ids.extend(token_ids)\n",
    "            words_ids.extend([token_idx] * len(token_ids))\n",
    "            sentence_ids.extend([sent_id] * len(token_ids))\n",
    "            token_idx += 1\n",
    "    return ids, words_ids, sentence_ids\n",
    "\n",
    "encode(\"Hello world! This is a test.\")\n",
    "            "
   ]
  },
  {
   "cell_type": "code",
   "execution_count": 188,
   "metadata": {},
   "outputs": [],
   "source": [
    "taskC_train = []\n",
    "with open (\"data/subtaskC_train.jsonl\", \"r\", encoding=\"utf-8\") as f:\n",
    "    for line in f:\n",
    "        if line:\n",
    "            parsed = json.loads(line)\n",
    "            taskC_train.append((parsed[\"text\"], parsed[\"label\"], parsed[\"id\"]))"
   ]
  },
  {
   "cell_type": "code",
   "execution_count": null,
   "metadata": {},
   "outputs": [],
   "source": [
    "taskC_dev = []\n",
    "with open (\"data/subtaskC_dev.jsonl\", \"r\", encoding=\"utf-8\") as f:\n",
    "    for line in f:\n",
    "        if line:\n",
    "            parsed = json.loads(line)\n",
    "            taskC_dev.append((parsed[\"text\"], parsed[\"label\"], parsed[\"id\"]))"
   ]
  },
  {
   "cell_type": "code",
   "execution_count": 189,
   "metadata": {},
   "outputs": [],
   "source": [
    "def perplexity(logits, labels):\n",
    "    sm = log_softmax(logits, dim=-1)\n",
    "    probs = []\n",
    "    for i in range(labels.shape[1] - 1):\n",
    "        next_idx = labels[0, i + 1].item()\n",
    "        scores = sm[0, i, :]\n",
    "        prob_next_idx = scores[next_idx].item()\n",
    "        probs.append(prob_next_idx)\n",
    "\n",
    "    probs = np.array(probs)\n",
    "    probs = np.sum(probs)\n",
    "    l = labels.shape[1] - 1\n",
    "    ppl = - (1 / l) * np.sum(probs)\n",
    "    return np.exp(ppl)"
   ]
  },
  {
   "cell_type": "code",
   "execution_count": 190,
   "metadata": {},
   "outputs": [],
   "source": [
    "def last_index_of(item, arr):\n",
    "    last = None\n",
    "    for i, x in enumerate(arr):\n",
    "        if x == item:\n",
    "            last = i\n",
    "    return last\n",
    "\n",
    "def base0(arr):\n",
    "    m = min(arr)\n",
    "    return [i - m for i in arr]"
   ]
  },
  {
   "cell_type": "code",
   "execution_count": 191,
   "metadata": {},
   "outputs": [
    {
     "data": {
      "text/plain": [
       "[1049.846958988214,\n",
       " 1049.846958988214,\n",
       " 1907.9163428919435,\n",
       " 1907.9163428919435,\n",
       " 1907.9163428919435,\n",
       " 1907.9163428919435]"
      ]
     },
     "execution_count": 191,
     "metadata": {},
     "output_type": "execute_result"
    }
   ],
   "source": [
    "def ppl_sentences(string):\n",
    "    ids, words, sents = encode(string)\n",
    "    result = []\n",
    "    m = max(sents)\n",
    "    for i in range(m+1):\n",
    "        sent_start = sents.index(i)\n",
    "        # make inclusive\n",
    "        sent_end = last_index_of(i, sents) + 1\n",
    "        input_ids = torch.tensor(\n",
    "            [bos] + ids[sent_start:sent_end] + [eos],\n",
    "            device=device\n",
    "        ).unsqueeze(0)\n",
    "        out = model(input_ids)\n",
    "        ppl = perplexity(out.logits, input_ids)\n",
    "        sent_length = len(set(words[sent_start:sent_end]))\n",
    "        result.extend([ppl] * sent_length)\n",
    "    return result\n",
    "        \n",
    "        \n",
    "ppl_sentences(\"Hello world! My name is girlboss\")"
   ]
  },
  {
   "cell_type": "code",
   "execution_count": 192,
   "metadata": {},
   "outputs": [
    {
     "data": {
      "text/plain": [
       "[3999.6971419758097,\n",
       " 1347.289351860791,\n",
       " 468.2349159351564,\n",
       " 2882.869780896676,\n",
       " 485.7940347531757,\n",
       " 2924.522525027994]"
      ]
     },
     "execution_count": 192,
     "metadata": {},
     "output_type": "execute_result"
    }
   ],
   "source": [
    "def ppl_sent_words(string):\n",
    "    ids, words, sents = encode(string)\n",
    "    result = []\n",
    "    m = max(sents)\n",
    "    for i in range(m+1):\n",
    "        sent_start = sents.index(i)\n",
    "        sent_end = last_index_of(i, sents) + 1\n",
    "        input_ids = torch.tensor(\n",
    "            [bos] + ids[sent_start:sent_end] + [eos],\n",
    "            device=device\n",
    "        ).unsqueeze(0)\n",
    "        out = model(input_ids)\n",
    "        sent_words = base0(words[sent_start:sent_end])\n",
    "        mw = max(sent_words)\n",
    "        for j in range(mw+1):\n",
    "            # bos, inclusive -> +2\n",
    "            li = last_index_of(j, sent_words)\n",
    "            if (li is None):\n",
    "                # somehow empty sentence?\n",
    "                continue\n",
    "            word_end = li + 2\n",
    "            logits = out.logits[:, :word_end, :]\n",
    "            labels = input_ids[:, :word_end]\n",
    "            ppl = perplexity(logits, labels)\n",
    "            result.append(ppl)\n",
    "    return result\n",
    "    \n",
    "ppl_sent_words(\"Hello world! My name is girlboss\")"
   ]
  },
  {
   "cell_type": "code",
   "execution_count": 197,
   "metadata": {},
   "outputs": [],
   "source": [
    "def ppl_words(string):\n",
    "    ids, words, _ = encode(string)\n",
    "    if len(ids) > 1022:\n",
    "        window_size = 1024\n",
    "        slide_amount = 256\n",
    "        pos = 0\n",
    "        input_ids = [bos] + ids + [eos]\n",
    "        logits = []\n",
    "        while True:\n",
    "            end = pos+window_size\n",
    "            window = input_ids[pos:end]\n",
    "            partial_out = model(torch.tensor(window, device=device).unsqueeze(0))\n",
    "            l = partial_out.logits\n",
    "            take_from = 0 if pos == 0 else window_size - slide_amount\n",
    "            window_out = l.cpu().detach().numpy()[0, take_from:]\n",
    "            logits.extend(window_out)\n",
    "            if end > len(ids):\n",
    "                break\n",
    "            pos += slide_amount\n",
    "        logits = torch.tensor(logits).unsqueeze(0)\n",
    "    else:\n",
    "        out = model(\n",
    "            torch.tensor([bos] + ids + [eos], device=device).unsqueeze(0),\n",
    "        )\n",
    "        logits = out.logits\n",
    "    \n",
    "    result = []\n",
    "    input_ids = torch.tensor([bos] + ids + [eos]).unsqueeze(0)\n",
    "    m = max(words)\n",
    "    for i in range(m+1):\n",
    "        # bos, inclusive\n",
    "        li = last_index_of(i, words)\n",
    "        if li is None: \n",
    "            continue\n",
    "        end = li + 2\n",
    "        ref = logits[:, :end, :]\n",
    "        lab = input_ids[:, :end]\n",
    "        ppl = perplexity(ref, lab)\n",
    "        result.append(ppl)\n",
    "    return result\n",
    "        "
   ]
  },
  {
   "cell_type": "code",
   "execution_count": 198,
   "metadata": {},
   "outputs": [],
   "source": [
    "def rolling_avg(arr, window_size=10):\n",
    "    if window_size == 0:\n",
    "        return arr\n",
    "    r = []\n",
    "    i = 0\n",
    "    while i < len(arr):\n",
    "        mid = window_size // 2\n",
    "        start = max(i - mid, 0)\n",
    "        end = min(i + mid, len(arr) + 1)\n",
    "        current = sum(arr[start:end]) / (end - start)\n",
    "        r.append(current)\n",
    "        i += 1\n",
    "    return r  \n",
    "\n",
    "def rolling_variance(arr, window_size=10):\n",
    "    r = []\n",
    "    i = 0\n",
    "    while i < len(arr):\n",
    "        mid = window_size // 2\n",
    "        start = max(i - mid, 0)\n",
    "        end = min(i + mid, len(arr) + 1)\n",
    "        current = np.var(arr[start:end])\n",
    "        r.append(current)\n",
    "        i += 1\n",
    "    return r\n",
    "\n",
    "def flatten_outliers(arr, maximum=5000):\n",
    "    return [i if i <= maximum else maximum for i in arr]\n",
    "    "
   ]
  },
  {
   "cell_type": "code",
   "execution_count": 199,
   "metadata": {},
   "outputs": [
    {
     "data": {
      "image/png": "[encoded data removed]",
      "text/plain": [
       "<Figure size 640x480 with 1 Axes>"
      ]
     },
     "metadata": {},
     "output_type": "display_data"
    }
   ],
   "source": [
    "idx = 1062\n",
    "\n",
    "_, words, _ = encode(taskC_train[idx][0])\n",
    "p1 = ppl_words(taskC_train[idx][0])\n",
    "p1 = flatten_outliers(p1, maximum=5000)\n",
    "# p1 = flatten_outliers(p1)\n",
    "# p2 = ppl_sent_words(taskC_train[idx][0])\n",
    "# p2 = rolling_avg(p2, window_size=5)\n",
    "# p3 = ppl_words(taskC_train[idx][0])\n",
    "\n",
    "\n",
    "label = taskC_train[idx][1]\n",
    "\n",
    "plt.plot(p1)\n",
    "plt.axvline(label, color=\"red\", linestyle=\"--\")\n",
    "plt.title(f\"Perplexity over time, document {idx}\")\n",
    "plt.show()"
   ]
  },
  {
   "cell_type": "code",
   "execution_count": 156,
   "metadata": {},
   "outputs": [],
   "source": [
    "processed_train = []\n",
    "\n",
    "for i, (text, _ , _) in tqdm(enumerate(taskC_train), total=len(taskC_train)):\n",
    "    p1 = ppl_words(text)\n",
    "    p2 = ppl_sent_words(text)\n",
    "    p3 = ppl_sentences(text)\n",
    "    arr = np.array([p1, p2, p3])\n",
    "    features = arr.T\n",
    "    processed_train.append(features.tolist())\n",
    "\n",
    "with open(\"data/ppl_train.json\", \"w\", encoding=\"utf-8\") as f:\n",
    "    json.dump(processed_train, f, indent=4)\n"
   ]
  },
  {
   "cell_type": "code",
   "execution_count": 159,
   "metadata": {},
   "outputs": [
    {
     "data": {
      "text/plain": [
       "(211, 3)"
      ]
     },
     "execution_count": 159,
     "metadata": {},
     "output_type": "execute_result"
    }
   ],
   "source": [
    "processed_dev = []\n",
    "\n",
    "for i, (text, _ , _) in tqdm(enumerate(taskC_dev), total=len(taskC_dev)):\n",
    "    p1 = ppl_words(text)\n",
    "    p2 = ppl_sent_words(text)\n",
    "    p3 = ppl_sentences(text)\n",
    "    arr = np.array([p1, p2, p3])\n",
    "    features = arr.T\n",
    "    processed_dev.append(features.tolist())\n",
    "\n",
    "with open(\"data/ppl_dev.json\", \"w\", encoding=\"utf-8\") as f:\n",
    "    json.dump(processed_dev, f, indent=4)"
   ]
  }
 ],
 "metadata": {
  "kernelspec": {
   "display_name": "env",
   "language": "python",
   "name": "python3"
  },
  "language_info": {
   "codemirror_mode": {
    "name": "ipython",
    "version": 3
   },
   "file_extension": ".py",
   "mimetype": "text/x-python",
   "name": "python",
   "nbconvert_exporter": "python",
   "pygments_lexer": "ipython3",
   "version": "3.11.4"
  }
 },
 "nbformat": 4,
 "nbformat_minor": 2
}
