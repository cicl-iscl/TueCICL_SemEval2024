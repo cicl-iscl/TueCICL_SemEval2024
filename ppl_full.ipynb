{
 "cells": [
  {
   "cell_type": "code",
   "execution_count": 1,
   "metadata": {},
   "outputs": [
    {
     "name": "stderr",
     "output_type": "stream",
     "text": [
      "/Users/aron/codebase/uniwork/cicl/env/lib/python3.11/site-packages/tqdm/auto.py:21: TqdmWarning: IProgress not found. Please update jupyter and ipywidgets. See https://ipywidgets.readthedocs.io/en/stable/user_install.html\n",
      "  from .autonotebook import tqdm as notebook_tqdm\n"
     ]
    }
   ],
   "source": [
    "from transformers import GPT2Tokenizer, AutoModelForCausalLM\n",
    "from torch.nn.functional import log_softmax\n",
    "import torch\n",
    "import numpy as np\n",
    "import json\n",
    "from tqdm import tqdm\n",
    "from nltk.tokenize import sent_tokenize\n",
    "from matplotlib import pyplot as plt"
   ]
  },
  {
   "cell_type": "code",
   "execution_count": 2,
   "metadata": {},
   "outputs": [],
   "source": [
    "model = AutoModelForCausalLM.from_pretrained('gpt2')\n",
    "tokenizer = GPT2Tokenizer.from_pretrained('gpt2')\n",
    "bos = tokenizer.bos_token_id\n",
    "eos = tokenizer.eos_token_id"
   ]
  },
  {
   "cell_type": "code",
   "execution_count": 3,
   "metadata": {},
   "outputs": [
    {
     "data": {
      "text/plain": [
       "([15496, 6894, 0, 1212, 271, 64, 9288, 13],\n",
       " [0, 1, 1, 2, 3, 4, 5, 5],\n",
       " [0, 0, 0, 1, 1, 1, 1, 1])"
      ]
     },
     "execution_count": 3,
     "metadata": {},
     "output_type": "execute_result"
    }
   ],
   "source": [
    "def encode(string):\n",
    "    ids, words_ids, sentence_ids = [], [], []\n",
    "    sentences = sent_tokenize(string, language='english')\n",
    "    token_idx = 0\n",
    "    for sent_id, sentence in enumerate(sentences):\n",
    "        tokens = sentence.split(\" \")\n",
    "        for token in tokens:\n",
    "            token_ids = tokenizer.encode(token, add_special_tokens=False)\n",
    "            ids.extend(token_ids)\n",
    "            words_ids.extend([token_idx] * len(token_ids))\n",
    "            sentence_ids.extend([sent_id] * len(token_ids))\n",
    "            token_idx += 1\n",
    "    return ids, words_ids, sentence_ids\n",
    "\n",
    "encode(\"Hello world! This is a test.\")\n",
    "            "
   ]
  },
  {
   "cell_type": "code",
   "execution_count": 4,
   "metadata": {},
   "outputs": [],
   "source": [
    "taskC_train = []\n",
    "with open (\"data/subtaskC_train.jsonl\", \"r\", encoding=\"utf-8\") as f:\n",
    "    for line in f:\n",
    "        if line:\n",
    "            parsed = json.loads(line)\n",
    "            taskC_train.append((parsed[\"text\"], parsed[\"label\"], parsed[\"id\"]))"
   ]
  },
  {
   "cell_type": "code",
   "execution_count": 5,
   "metadata": {},
   "outputs": [],
   "source": [
    "def perplexity(logits, labels):\n",
    "    sm = log_softmax(logits, dim=-1)\n",
    "    probs = []\n",
    "    for i in range(labels.shape[1] - 1):\n",
    "        next_idx = labels[0, i + 1].item()\n",
    "        scores = sm[0, i, :]\n",
    "        prob_next_idx = scores[next_idx].item()\n",
    "        probs.append(prob_next_idx)\n",
    "\n",
    "    probs = np.array(probs)\n",
    "    probs = np.sum(probs)\n",
    "    l = labels.shape[1] - 1\n",
    "    ppl = - (1 / l) * np.sum(probs)\n",
    "    return np.exp(ppl)"
   ]
  },
  {
   "cell_type": "code",
   "execution_count": 6,
   "metadata": {},
   "outputs": [],
   "source": [
    "def ppl_sequential(string):\n",
    "    result = []\n",
    "    window_size = 1020\n",
    "    slide_amount = 256\n",
    "    \n",
    "    all_ids, all_words, _ = encode(string)\n",
    "    \n",
    "    window_start = 0\n",
    "    done = False\n",
    "    while not done:\n",
    "        window_end = window_start + window_size\n",
    "        pos = 0 if window_start == 0 else window_end - slide_amount\n",
    "        ids = all_ids[window_start:window_end]\n",
    "        words = all_words[window_start:window_end]\n",
    "        \n",
    "        __ids = torch.tensor([bos] + ids + [eos]).unsqueeze(0)\n",
    "        __out = model(__ids)\n",
    "        __words = [0] + [r+1 for r in words] + [len(words) + 1]\n",
    "        \n",
    "        for i, word_id in enumerate(__words[pos:]):\n",
    "            i = i + pos\n",
    "            word_id = __words[i]\n",
    "            if i == 0:\n",
    "                # ignore BOS\n",
    "                continue\n",
    "            elif i == len(__words) - 1 or __words[i+1] != word_id:\n",
    "                logits = __out.logits[:, :i+1, :]\n",
    "                input_tensor = __ids[:, :i+1]\n",
    "                ppl = perplexity(logits, input_tensor)\n",
    "                result.append(ppl)\n",
    "        \n",
    "        if window_start + window_size >= len(all_ids):\n",
    "            # in this order because one pass should be done\n",
    "            # even if over\n",
    "            done = True\n",
    "        window_start += slide_amount\n",
    "    \n",
    "    # remove EOS\n",
    "    result.pop(-1)\n",
    "    return result\n",
    "\n",
    "   "
   ]
  },
  {
   "cell_type": "code",
   "execution_count": 7,
   "metadata": {},
   "outputs": [],
   "source": [
    "def ppl_sentences(string):\n",
    "    result = []\n",
    "    all_ids, all_words, all_sents = encode(string)\n",
    "    for i, sent_id in enumerate(all_sents):\n",
    "        if i == len(all_sents) - 1 or all_sents[i+1] != sent_id:\n",
    "            sent_start = all_sents.index(sent_id)\n",
    "            input_ids = [bos] + all_ids[sent_start:i+1] + [eos]\n",
    "            input_tensor = torch.tensor(input_ids).unsqueeze(0)\n",
    "            out = model(input_tensor)\n",
    "            ppl = perplexity(out.logits, input_tensor)\n",
    "            word_count = len(set(all_words[sent_start:i+1]))\n",
    "            result.extend([ppl] * word_count)\n",
    "    return result\n",
    "            "
   ]
  },
  {
   "cell_type": "code",
   "execution_count": 27,
   "metadata": {},
   "outputs": [],
   "source": [
    "def ppl_sent_words(string):\n",
    "    result = []\n",
    "    all_ids, all_words, all_sents = encode(string)\n",
    "    for i, sent_id in enumerate(all_sents):\n",
    "        if i == len(all_sents) - 1 or all_sents[i+1] != sent_id:\n",
    "            sent_start = all_sents.index(sent_id)\n",
    "            input_ids = [bos] + all_ids[sent_start:i+1] + [eos]\n",
    "            input_tensor = torch.tensor(input_ids).unsqueeze(0)\n",
    "            out = model(input_tensor)\n",
    "            for word_i, word_id in enumerate(all_words[sent_start:i+1]):\n",
    "                abs_index = word_i + sent_start\n",
    "                if word_i == 0:\n",
    "                    continues\n",
    "                elif abs_index == i or all_words[abs_index+1] != word_id:\n",
    "                    logits = out.logits[:, :word_i+1, :]\n",
    "                    input_tensor = input_tensor[:, :word_i+1]\n",
    "                    ppl = perplexity(logits, input_tensor)\n",
    "                    result.append(ppl)\n",
    "    return result"
   ]
  },
  {
   "cell_type": "code",
   "execution_count": 9,
   "metadata": {},
   "outputs": [],
   "source": [
    "def rolling_avg(arr, window_size=10):\n",
    "    if window_size == 0:\n",
    "        return arr\n",
    "    r = []\n",
    "    i = 0\n",
    "    while i < len(arr):\n",
    "        mid = window_size // 2\n",
    "        start = max(i - mid, 0)\n",
    "        end = min(i + mid, len(arr) + 1)\n",
    "        current = sum(arr[start:end]) / (end - start)\n",
    "        r.append(current)\n",
    "        i += 1\n",
    "    return r  \n",
    "\n",
    "def rolling_variance(arr, window_size=10):\n",
    "    r = []\n",
    "    i = 0\n",
    "    while i < len(arr):\n",
    "        mid = window_size // 2\n",
    "        start = max(i - mid, 0)\n",
    "        end = min(i + mid, len(arr) + 1)\n",
    "        current = np.var(arr[start:end])\n",
    "        r.append(current)\n",
    "        i += 1\n",
    "    return r\n",
    "\n",
    "def flatten_outliers(arr, maximum=5000):\n",
    "    return [i if i <= maximum else maximum for i in arr]\n",
    "    "
   ]
  },
  {
   "cell_type": "code",
   "execution_count": 36,
   "metadata": {},
   "outputs": [
    {
     "name": "stdout",
     "output_type": "stream",
     "text": [
      "674 649\n"
     ]
    },
    {
     "data": {
      "image/png": "[encoded data removed]",
      "text/plain": [
       "<Figure size 640x480 with 1 Axes>"
      ]
     },
     "metadata": {},
     "output_type": "display_data"
    }
   ],
   "source": [
    "idx = 6\n",
    "_, words, _ = encode(taskC_train[idx][0])\n",
    "# ppl_global = ppl_sequential(taskC_train[idx][0])\n",
    "# ppl_sents = ppl_sentences(taskC_train[idx][0])\n",
    "ppl_local = ppl_sent_words(taskC_train[idx][0])\n",
    "print((len(set(words))), len(ppl_local))\n",
    "# print(len(set(words)), len(ppl_global), len(ppl_sents), len(ppl_local))\n",
    "# ppl_sents = flatten_outliers(ppl_sents, maximum=2000)\n",
    "\n",
    "# ppl_global = ppl_sequential(taskC_train[idx][0])\n",
    "label = taskC_train[idx][1]\n",
    "\n",
    "plt.plot(ppl_local)\n",
    "# plt.plot(ppl_global)\n",
    "plt.axvline(label, color=\"red\", linestyle=\"--\")\n",
    "plt.title(f\"Perplexity over time, document {idx}\")\n",
    "plt.show()"
   ]
  }
 ],
 "metadata": {
  "kernelspec": {
   "display_name": "env",
   "language": "python",
   "name": "python3"
  },
  "language_info": {
   "codemirror_mode": {
    "name": "ipython",
    "version": 3
   },
   "file_extension": ".py",
   "mimetype": "text/x-python",
   "name": "python",
   "nbconvert_exporter": "python",
   "pygments_lexer": "ipython3",
   "version": "3.11.4"
  }
 },
 "nbformat": 4,
 "nbformat_minor": 2
}
