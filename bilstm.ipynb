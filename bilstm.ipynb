{
 "cells": [
  {
   "cell_type": "code",
   "execution_count": 1,
   "metadata": {},
   "outputs": [],
   "source": [
    "import torch\n",
    "import torch.nn as nn\n",
    "from torch.utils.data import Dataset, dataloader\n",
    "import torch.nn.functional as F\n",
    "import json\n",
    "import pickle\n",
    "import re\n",
    "from typing import List, Union\n",
    "from tqdm import tqdm\n",
    "import math\n",
    "import os\n",
    "import numpy as np\n"
   ]
  },
  {
   "cell_type": "code",
   "execution_count": 2,
   "metadata": {},
   "outputs": [
    {
     "data": {
      "text/plain": [
       "device(type='mps')"
      ]
     },
     "execution_count": 2,
     "metadata": {},
     "output_type": "execute_result"
    }
   ],
   "source": [
    "def get_device():\n",
    "    if torch.cuda.is_available():\n",
    "        return torch.device('cuda')\n",
    "    elif torch.backends.mps.is_available() and torch.backends.mps.is_built():\n",
    "        return torch.device('mps')\n",
    "    else:\n",
    "        return torch.device('cpu')\n",
    "\n",
    "device = get_device()\n",
    "device"
   ]
  },
  {
   "cell_type": "code",
   "execution_count": 3,
   "metadata": {},
   "outputs": [
    {
     "data": {
      "text/plain": [
       "torch.Size([4530033, 300])"
      ]
     },
     "execution_count": 3,
     "metadata": {},
     "output_type": "execute_result"
    }
   ],
   "source": [
    "PAD = \"<PAD>\"\n",
    "UNK = \"<UNK>\"\n",
    "\n",
    "with open(\"wiki2vec/dump_t.pkl\", \"rb\") as f:\n",
    "    word2idx, idx2word, embeddings = pickle.load(f)\n",
    "    \n",
    "WHITESPACE = \"<WS>\"\n",
    "word2idx[WHITESPACE] = len(word2idx)\n",
    "idx2word[word2idx[WHITESPACE]] = WHITESPACE\n",
    "dim = embeddings.shape[1]\n",
    "ws_emb = torch.randn(1, dim)\n",
    "embeddings = torch.cat([embeddings, ws_emb], dim=0)\n",
    "embeddings.shape"
   ]
  },
  {
   "cell_type": "code",
   "execution_count": 15,
   "metadata": {},
   "outputs": [],
   "source": [
    "class TaskC(Dataset):\n",
    "    def __init__(self, split=\"train\", enrich=False, max_len=2000, word2idx=None):\n",
    "        super().__init__()\n",
    "        self.split = split\n",
    "        self.enrich = enrich\n",
    "        self.max_len = max_len\n",
    "        self.word2idx = word2idx\n",
    "        self.data, self.perplexities = self.load_data()\n",
    "    \n",
    "    def load_data(self):\n",
    "        f = \"data/subtaskC_train.jsonl\" if self.split == \"train\" else \"data/subtaskC_dev.jsonl\"\n",
    "        ppl_f = \"data/ppl_train.json\" if self.split == \"train\" else \"data/ppl_dev.json\"\n",
    "        data = []\n",
    "        \n",
    "        with open(f, \"r\", encoding=\"utf-8\") as f:\n",
    "            for line in f:\n",
    "                parsed = json.loads(line)\n",
    "                data.append(parsed)\n",
    "        with open(ppl_f, \"r\", encoding=\"utf-8\") as f:\n",
    "            ppl_data = json.load(f)\n",
    "                \n",
    "        \n",
    "        return data, ppl_data\n",
    "    \n",
    "    def _clean(self, word):\n",
    "        # all non alphanumeric\n",
    "        replace = re.compile(r\"[^a-zA-Z0-9\\-]\")\n",
    "        word = replace.sub(\"\", word)\n",
    "        return word.lower().strip()\n",
    "    \n",
    "    def _is_whitespace(self, word):\n",
    "        pat = re.compile(r\"^\\s*$\")\n",
    "        return pat.match(word) is not None\n",
    "\n",
    "    def tokenize(self, text) -> List[int]:\n",
    "        tokens = text.split(\" \")\n",
    "        ids = []\n",
    "        for token in tokens:\n",
    "            token = self._clean(token)\n",
    "            if self._is_whitespace(token):\n",
    "                ids.append(self.word2idx[WHITESPACE])\n",
    "            elif token in self.word2idx:\n",
    "                ids.append(self.word2idx[token])\n",
    "            else:\n",
    "                ids.append(self.word2idx[UNK])\n",
    "        if len(ids) > self.max_len:\n",
    "            ids = ids[:self.max_len]\n",
    "        elif len(ids) < self.max_len:\n",
    "            ids = ids + ([self.word2idx[PAD]] * (self.max_len - len(ids)))\n",
    "        return torch.tensor(ids, dtype=torch.long)\n",
    "    \n",
    "    def get_perplexities(self, idx):\n",
    "        ppl = self.perplexities[idx]\n",
    "        \n",
    "        if len(ppl) > self.max_len:\n",
    "            ppl = ppl[:self.max_len]\n",
    "        elif len(ppl) < self.max_len:\n",
    "            last = ppl[-1]\n",
    "            ppl = ppl + ([last] * (self.max_len - len(ppl)))\n",
    "        return torch.tensor(ppl)\n",
    "    \n",
    "    def get_label_vector(self, boundary:int):\n",
    "        base = [0] * self.max_len\n",
    "        if boundary > -1:\n",
    "            for i in range(boundary, self.max_len):\n",
    "                base[i] = 1\n",
    "        return torch.tensor(base, dtype=torch.long)\n",
    "    \n",
    "    def __len__(self):\n",
    "        return len(self.data)\n",
    "    \n",
    "    def __getitem__(self, index):\n",
    "        data = self.data[index]\n",
    "        text = self.tokenize(data[\"text\"])\n",
    "        ppl = self.get_perplexities(index)\n",
    "        label = self.get_label_vector(data[\"label\"])\n",
    "        return text, ppl, label"
   ]
  },
  {
   "cell_type": "code",
   "execution_count": 5,
   "metadata": {},
   "outputs": [],
   "source": [
    "class BiLSTM_Labeller(nn.Module):\n",
    "    def __init__(\n",
    "        self, \n",
    "        pretrained_embeddings = None,\n",
    "        hidden_size = 256,\n",
    "        num_layers = 1,\n",
    "        feature_vector_dim = 3\n",
    "    ) -> None:\n",
    "        \n",
    "        super().__init__()\n",
    "        self.hidden_size = hidden_size\n",
    "        \n",
    "        self.emb = nn.Embedding.from_pretrained(pretrained_embeddings)\n",
    "        self.emb.cpu()\n",
    "        self.input_size = self.emb.weight.shape[1] + feature_vector_dim\n",
    "        \n",
    "        self.lstm = nn.LSTM(\n",
    "            input_size=self.input_size,\n",
    "            hidden_size=self.hidden_size,\n",
    "            num_layers=num_layers,\n",
    "            bidirectional=True,\n",
    "            batch_first=True,\n",
    "        )\n",
    "        self.lstm.to(device)\n",
    "        # multiply by 2 because of bidirectional\n",
    "        self.classifier_head = nn.Linear(self.hidden_size * 2, 2)\n",
    "        self.classifier_head.to(device)\n",
    "        \n",
    "    def forward(self, input_ids, feature_vectors):\n",
    "        inputs: torch.Tensor = self.emb(input_ids)\n",
    "        inputs = torch.cat((inputs, feature_vectors), dim=-1)\n",
    "        inputs = inputs.to(device)\n",
    "        outputs, _ = self.lstm(inputs)\n",
    "        logits = self.classifier_head(outputs)\n",
    "        predicted = F.log_softmax(logits, dim=-1)\n",
    "        return predicted\n",
    "    \n",
    "    def predict(self, input_ids, feature_vectors) -> List[int]:\n",
    "        inputs = torch.cat((input_ids, feature_vectors), dim=-1)\n",
    "        inputs = inputs.to(device)\n",
    "        predicted = self.forward(inputs)\n",
    "        predicted = torch.argmax(predicted, dim=-1)\n",
    "        p = predicted.cpu().numpy().tolist()\n",
    "        r = []\n",
    "        for item in p:\n",
    "            try:\n",
    "                r.append(item.index(1))\n",
    "            except ValueError:\n",
    "                r.append(len(item) // 2)\n",
    "        return r\n",
    "    \n",
    "model = BiLSTM_Labeller(\n",
    "    pretrained_embeddings=embeddings\n",
    ")\n",
    "\n"
   ]
  },
  {
   "cell_type": "code",
   "execution_count": 6,
   "metadata": {},
   "outputs": [],
   "source": [
    "def get_start_position(pred: torch.Tensor) -> int:\n",
    "    pred_np: np.ndarray = pred.detach().numpy()\n",
    "    result = []\n",
    "    for labels in pred_np:\n",
    "        try:\n",
    "            result.append(labels.tolist().index(1))\n",
    "        except ValueError:\n",
    "            result.append(len(labels) // 2)\n",
    "    return result"
   ]
  },
  {
   "cell_type": "code",
   "execution_count": 17,
   "metadata": {},
   "outputs": [],
   "source": [
    "taskC_dev = TaskC(split=\"dev\", word2idx=word2idx)\n",
    "dev_dataloader = dataloader.DataLoader(taskC_dev, batch_size=32, shuffle=False)\n",
    "\n",
    "def eval(model):\n",
    "    pred = []\n",
    "    gold = []\n",
    "    with torch.no_grad():\n",
    "        for input_ids, perplexities, labels in dev_dataloader:\n",
    "            labels = get_start_position(labels)\n",
    "            predicted = model.predict(input_ids, perplexities)\n",
    "            pred.extend(predicted)\n",
    "            gold.extend(labels)\n",
    "    distances = [abs(pred[i] - gold[i]) for i in range(len(pred))]\n",
    "    print(\"MEAN ABSOLUTE DISTANCE:\", sum(distances) / len(distances))\n",
    "    return pred, gold\n",
    "\n"
   ]
  },
  {
   "cell_type": "code",
   "execution_count": 12,
   "metadata": {},
   "outputs": [],
   "source": [
    "def make_checkpoint(model, optimizer, epoch):\n",
    "    try:\n",
    "        os.mkdir(\"checkpoints\")\n",
    "    except FileExistsError:\n",
    "        pass\n",
    "    checkpoint = {\n",
    "        \"model\": model.state_dict(),\n",
    "        \"optimizer\": optimizer.state_dict(),\n",
    "        \"epoch\": epoch,\n",
    "    }\n",
    "    torch.save(checkpoint, f\"checkpoints/checkpoint_{epoch}.pt\")"
   ]
  },
  {
   "cell_type": "code",
   "execution_count": 13,
   "metadata": {},
   "outputs": [],
   "source": [
    "def train(model, dataloader, optimizer, criterion, epochs=10):\n",
    "    model.train()\n",
    "    \n",
    "    for epoch in range(1, epochs+1): \n",
    "        losses = []\n",
    "        with tqdm(dataloader, total=len(dataloader)) as pbar:\n",
    "            for batch in dataloader:\n",
    "                optimizer.zero_grad()\n",
    "                input_ids, perplexities, labels = batch\n",
    "                # do not put inputs to cuda, because emb is on cpu\n",
    "                labels = labels.to(device)\n",
    "                \n",
    "                outputs = model(input_ids, perplexities)\n",
    "                # put outputs in shape (batch_size * seq_len, 2)\n",
    "                outputs = outputs.reshape(-1, 2)\n",
    "                # put labels in shape (batch_size * seq_len)\n",
    "                labels = labels.reshape(-1)\n",
    "                loss = criterion(outputs, labels)\n",
    "                losses.append(loss.item())\n",
    "                loss.backward()\n",
    "                optimizer.step()\n",
    "                pbar.update(1)\n",
    "        print(f\"\\n---- EVALUATING MODEL at epoch {epoch} ----\")\n",
    "        print(\"LOSS:\", sum(losses) / len(losses))\n",
    "        eval(model)\n",
    "        print(\"------------------------------------------\\n\")\n",
    "        # make_checkpoint(model, optimizer, epoch)"
   ]
  },
  {
   "cell_type": "code",
   "execution_count": 16,
   "metadata": {},
   "outputs": [
    {
     "name": "stderr",
     "output_type": "stream",
     "text": [
      "100%|██████████| 115/115 [02:06<00:00,  1.10s/it]"
     ]
    },
    {
     "name": "stdout",
     "output_type": "stream",
     "text": [
      "\n",
      "---- EVALUATING MODEL at epoch 1 ----\n",
      "LOSS: 0.07050031822012819\n"
     ]
    },
    {
     "name": "stderr",
     "output_type": "stream",
     "text": [
      "\n"
     ]
    },
    {
     "ename": "TypeError",
     "evalue": "unsupported operand type(s) for -: 'list' and 'int'",
     "output_type": "error",
     "traceback": [
      "\u001b[0;31m---------------------------------------------------------------------------\u001b[0m",
      "\u001b[0;31mTypeError\u001b[0m                                 Traceback (most recent call last)",
      "Cell \u001b[0;32mIn[16], line 10\u001b[0m\n\u001b[1;32m      7\u001b[0m optimizer \u001b[38;5;241m=\u001b[39m torch\u001b[38;5;241m.\u001b[39moptim\u001b[38;5;241m.\u001b[39mAdamW(model\u001b[38;5;241m.\u001b[39mparameters(), lr\u001b[38;5;241m=\u001b[39m\u001b[38;5;241m1e-3\u001b[39m)\n\u001b[1;32m      8\u001b[0m criterion \u001b[38;5;241m=\u001b[39m nn\u001b[38;5;241m.\u001b[39mCrossEntropyLoss()\n\u001b[0;32m---> 10\u001b[0m \u001b[43mtrain\u001b[49m\u001b[43m(\u001b[49m\u001b[43mmodel\u001b[49m\u001b[43m,\u001b[49m\u001b[43m \u001b[49m\u001b[43mloader\u001b[49m\u001b[43m,\u001b[49m\u001b[43m \u001b[49m\u001b[43moptimizer\u001b[49m\u001b[43m,\u001b[49m\u001b[43m \u001b[49m\u001b[43mcriterion\u001b[49m\u001b[43m)\u001b[49m\n",
      "Cell \u001b[0;32mIn[13], line 25\u001b[0m, in \u001b[0;36mtrain\u001b[0;34m(model, dataloader, optimizer, criterion, epochs)\u001b[0m\n\u001b[1;32m     23\u001b[0m \u001b[38;5;28mprint\u001b[39m(\u001b[38;5;124mf\u001b[39m\u001b[38;5;124m\"\u001b[39m\u001b[38;5;130;01m\\n\u001b[39;00m\u001b[38;5;124m---- EVALUATING MODEL at epoch \u001b[39m\u001b[38;5;132;01m{\u001b[39;00mepoch\u001b[38;5;132;01m}\u001b[39;00m\u001b[38;5;124m ----\u001b[39m\u001b[38;5;124m\"\u001b[39m)\n\u001b[1;32m     24\u001b[0m \u001b[38;5;28mprint\u001b[39m(\u001b[38;5;124m\"\u001b[39m\u001b[38;5;124mLOSS:\u001b[39m\u001b[38;5;124m\"\u001b[39m, \u001b[38;5;28msum\u001b[39m(losses) \u001b[38;5;241m/\u001b[39m \u001b[38;5;28mlen\u001b[39m(losses))\n\u001b[0;32m---> 25\u001b[0m \u001b[38;5;28;43meval\u001b[39;49m\u001b[43m(\u001b[49m\u001b[43mmodel\u001b[49m\u001b[43m)\u001b[49m\n\u001b[1;32m     26\u001b[0m \u001b[38;5;28mprint\u001b[39m(\u001b[38;5;124m\"\u001b[39m\u001b[38;5;124m------------------------------------------\u001b[39m\u001b[38;5;130;01m\\n\u001b[39;00m\u001b[38;5;124m\"\u001b[39m)\n",
      "Cell \u001b[0;32mIn[11], line 8\u001b[0m, in \u001b[0;36meval\u001b[0;34m(model)\u001b[0m\n\u001b[1;32m      6\u001b[0m gold \u001b[38;5;241m=\u001b[39m []\n\u001b[1;32m      7\u001b[0m \u001b[38;5;28;01mwith\u001b[39;00m torch\u001b[38;5;241m.\u001b[39mno_grad():\n\u001b[0;32m----> 8\u001b[0m \u001b[43m    \u001b[49m\u001b[38;5;28;43;01mfor\u001b[39;49;00m\u001b[43m \u001b[49m\u001b[43minput_ids\u001b[49m\u001b[43m,\u001b[49m\u001b[43m \u001b[49m\u001b[43mperplexities\u001b[49m\u001b[43m,\u001b[49m\u001b[43m \u001b[49m\u001b[43mlabels\u001b[49m\u001b[43m \u001b[49m\u001b[38;5;129;43;01min\u001b[39;49;00m\u001b[43m \u001b[49m\u001b[43mdev_dataloader\u001b[49m\u001b[43m:\u001b[49m\n\u001b[1;32m      9\u001b[0m \u001b[43m        \u001b[49m\u001b[43mlabels\u001b[49m\u001b[43m \u001b[49m\u001b[38;5;241;43m=\u001b[39;49m\u001b[43m \u001b[49m\u001b[43mget_start_position\u001b[49m\u001b[43m(\u001b[49m\u001b[43mlabels\u001b[49m\u001b[43m)\u001b[49m\n\u001b[1;32m     10\u001b[0m \u001b[43m        \u001b[49m\u001b[43mpredicted\u001b[49m\u001b[43m \u001b[49m\u001b[38;5;241;43m=\u001b[39;49m\u001b[43m \u001b[49m\u001b[43mmodel\u001b[49m\u001b[38;5;241;43m.\u001b[39;49m\u001b[43mpredict\u001b[49m\u001b[43m(\u001b[49m\u001b[43minput_ids\u001b[49m\u001b[43m,\u001b[49m\u001b[43m \u001b[49m\u001b[43mperplexities\u001b[49m\u001b[43m)\u001b[49m\n",
      "File \u001b[0;32m~/codebase/uniwork/cicl/env/lib/python3.11/site-packages/torch/utils/data/dataloader.py:630\u001b[0m, in \u001b[0;36m_BaseDataLoaderIter.__next__\u001b[0;34m(self)\u001b[0m\n\u001b[1;32m    627\u001b[0m \u001b[38;5;28;01mif\u001b[39;00m \u001b[38;5;28mself\u001b[39m\u001b[38;5;241m.\u001b[39m_sampler_iter \u001b[38;5;129;01mis\u001b[39;00m \u001b[38;5;28;01mNone\u001b[39;00m:\n\u001b[1;32m    628\u001b[0m     \u001b[38;5;66;03m# TODO(https://github.com/pytorch/pytorch/issues/76750)\u001b[39;00m\n\u001b[1;32m    629\u001b[0m     \u001b[38;5;28mself\u001b[39m\u001b[38;5;241m.\u001b[39m_reset()  \u001b[38;5;66;03m# type: ignore[call-arg]\u001b[39;00m\n\u001b[0;32m--> 630\u001b[0m data \u001b[38;5;241m=\u001b[39m \u001b[38;5;28;43mself\u001b[39;49m\u001b[38;5;241;43m.\u001b[39;49m\u001b[43m_next_data\u001b[49m\u001b[43m(\u001b[49m\u001b[43m)\u001b[49m\n\u001b[1;32m    631\u001b[0m \u001b[38;5;28mself\u001b[39m\u001b[38;5;241m.\u001b[39m_num_yielded \u001b[38;5;241m+\u001b[39m\u001b[38;5;241m=\u001b[39m \u001b[38;5;241m1\u001b[39m\n\u001b[1;32m    632\u001b[0m \u001b[38;5;28;01mif\u001b[39;00m \u001b[38;5;28mself\u001b[39m\u001b[38;5;241m.\u001b[39m_dataset_kind \u001b[38;5;241m==\u001b[39m _DatasetKind\u001b[38;5;241m.\u001b[39mIterable \u001b[38;5;129;01mand\u001b[39;00m \\\n\u001b[1;32m    633\u001b[0m         \u001b[38;5;28mself\u001b[39m\u001b[38;5;241m.\u001b[39m_IterableDataset_len_called \u001b[38;5;129;01mis\u001b[39;00m \u001b[38;5;129;01mnot\u001b[39;00m \u001b[38;5;28;01mNone\u001b[39;00m \u001b[38;5;129;01mand\u001b[39;00m \\\n\u001b[1;32m    634\u001b[0m         \u001b[38;5;28mself\u001b[39m\u001b[38;5;241m.\u001b[39m_num_yielded \u001b[38;5;241m>\u001b[39m \u001b[38;5;28mself\u001b[39m\u001b[38;5;241m.\u001b[39m_IterableDataset_len_called:\n",
      "File \u001b[0;32m~/codebase/uniwork/cicl/env/lib/python3.11/site-packages/torch/utils/data/dataloader.py:674\u001b[0m, in \u001b[0;36m_SingleProcessDataLoaderIter._next_data\u001b[0;34m(self)\u001b[0m\n\u001b[1;32m    672\u001b[0m \u001b[38;5;28;01mdef\u001b[39;00m \u001b[38;5;21m_next_data\u001b[39m(\u001b[38;5;28mself\u001b[39m):\n\u001b[1;32m    673\u001b[0m     index \u001b[38;5;241m=\u001b[39m \u001b[38;5;28mself\u001b[39m\u001b[38;5;241m.\u001b[39m_next_index()  \u001b[38;5;66;03m# may raise StopIteration\u001b[39;00m\n\u001b[0;32m--> 674\u001b[0m     data \u001b[38;5;241m=\u001b[39m \u001b[38;5;28;43mself\u001b[39;49m\u001b[38;5;241;43m.\u001b[39;49m\u001b[43m_dataset_fetcher\u001b[49m\u001b[38;5;241;43m.\u001b[39;49m\u001b[43mfetch\u001b[49m\u001b[43m(\u001b[49m\u001b[43mindex\u001b[49m\u001b[43m)\u001b[49m  \u001b[38;5;66;03m# may raise StopIteration\u001b[39;00m\n\u001b[1;32m    675\u001b[0m     \u001b[38;5;28;01mif\u001b[39;00m \u001b[38;5;28mself\u001b[39m\u001b[38;5;241m.\u001b[39m_pin_memory:\n\u001b[1;32m    676\u001b[0m         data \u001b[38;5;241m=\u001b[39m _utils\u001b[38;5;241m.\u001b[39mpin_memory\u001b[38;5;241m.\u001b[39mpin_memory(data, \u001b[38;5;28mself\u001b[39m\u001b[38;5;241m.\u001b[39m_pin_memory_device)\n",
      "File \u001b[0;32m~/codebase/uniwork/cicl/env/lib/python3.11/site-packages/torch/utils/data/_utils/fetch.py:51\u001b[0m, in \u001b[0;36m_MapDatasetFetcher.fetch\u001b[0;34m(self, possibly_batched_index)\u001b[0m\n\u001b[1;32m     49\u001b[0m         data \u001b[38;5;241m=\u001b[39m \u001b[38;5;28mself\u001b[39m\u001b[38;5;241m.\u001b[39mdataset\u001b[38;5;241m.\u001b[39m__getitems__(possibly_batched_index)\n\u001b[1;32m     50\u001b[0m     \u001b[38;5;28;01melse\u001b[39;00m:\n\u001b[0;32m---> 51\u001b[0m         data \u001b[38;5;241m=\u001b[39m \u001b[43m[\u001b[49m\u001b[38;5;28;43mself\u001b[39;49m\u001b[38;5;241;43m.\u001b[39;49m\u001b[43mdataset\u001b[49m\u001b[43m[\u001b[49m\u001b[43midx\u001b[49m\u001b[43m]\u001b[49m\u001b[43m \u001b[49m\u001b[38;5;28;43;01mfor\u001b[39;49;00m\u001b[43m \u001b[49m\u001b[43midx\u001b[49m\u001b[43m \u001b[49m\u001b[38;5;129;43;01min\u001b[39;49;00m\u001b[43m \u001b[49m\u001b[43mpossibly_batched_index\u001b[49m\u001b[43m]\u001b[49m\n\u001b[1;32m     52\u001b[0m \u001b[38;5;28;01melse\u001b[39;00m:\n\u001b[1;32m     53\u001b[0m     data \u001b[38;5;241m=\u001b[39m \u001b[38;5;28mself\u001b[39m\u001b[38;5;241m.\u001b[39mdataset[possibly_batched_index]\n",
      "File \u001b[0;32m~/codebase/uniwork/cicl/env/lib/python3.11/site-packages/torch/utils/data/_utils/fetch.py:51\u001b[0m, in \u001b[0;36m<listcomp>\u001b[0;34m(.0)\u001b[0m\n\u001b[1;32m     49\u001b[0m         data \u001b[38;5;241m=\u001b[39m \u001b[38;5;28mself\u001b[39m\u001b[38;5;241m.\u001b[39mdataset\u001b[38;5;241m.\u001b[39m__getitems__(possibly_batched_index)\n\u001b[1;32m     50\u001b[0m     \u001b[38;5;28;01melse\u001b[39;00m:\n\u001b[0;32m---> 51\u001b[0m         data \u001b[38;5;241m=\u001b[39m [\u001b[38;5;28;43mself\u001b[39;49m\u001b[38;5;241;43m.\u001b[39;49m\u001b[43mdataset\u001b[49m\u001b[43m[\u001b[49m\u001b[43midx\u001b[49m\u001b[43m]\u001b[49m \u001b[38;5;28;01mfor\u001b[39;00m idx \u001b[38;5;129;01min\u001b[39;00m possibly_batched_index]\n\u001b[1;32m     52\u001b[0m \u001b[38;5;28;01melse\u001b[39;00m:\n\u001b[1;32m     53\u001b[0m     data \u001b[38;5;241m=\u001b[39m \u001b[38;5;28mself\u001b[39m\u001b[38;5;241m.\u001b[39mdataset[possibly_batched_index]\n",
      "Cell \u001b[0;32mIn[10], line 75\u001b[0m, in \u001b[0;36mTaskC.__getitem__\u001b[0;34m(self, index)\u001b[0m\n\u001b[1;32m     73\u001b[0m data \u001b[38;5;241m=\u001b[39m \u001b[38;5;28mself\u001b[39m\u001b[38;5;241m.\u001b[39mdata[index]\n\u001b[1;32m     74\u001b[0m text \u001b[38;5;241m=\u001b[39m \u001b[38;5;28mself\u001b[39m\u001b[38;5;241m.\u001b[39mtokenize(data[\u001b[38;5;124m\"\u001b[39m\u001b[38;5;124mtext\u001b[39m\u001b[38;5;124m\"\u001b[39m])\n\u001b[0;32m---> 75\u001b[0m ppl \u001b[38;5;241m=\u001b[39m \u001b[38;5;28;43mself\u001b[39;49m\u001b[38;5;241;43m.\u001b[39;49m\u001b[43mget_perplexities\u001b[49m\u001b[43m(\u001b[49m\u001b[43mindex\u001b[49m\u001b[43m)\u001b[49m\n\u001b[1;32m     76\u001b[0m label \u001b[38;5;241m=\u001b[39m \u001b[38;5;28mself\u001b[39m\u001b[38;5;241m.\u001b[39mget_label_vector(data[\u001b[38;5;124m\"\u001b[39m\u001b[38;5;124mlabel\u001b[39m\u001b[38;5;124m\"\u001b[39m])\n\u001b[1;32m     77\u001b[0m \u001b[38;5;28;01mreturn\u001b[39;00m text, ppl, label\n",
      "Cell \u001b[0;32mIn[10], line 59\u001b[0m, in \u001b[0;36mTaskC.get_perplexities\u001b[0;34m(self, idx)\u001b[0m\n\u001b[1;32m     57\u001b[0m \u001b[38;5;28;01melif\u001b[39;00m \u001b[38;5;28mlen\u001b[39m(ppl) \u001b[38;5;241m<\u001b[39m \u001b[38;5;28mself\u001b[39m\u001b[38;5;241m.\u001b[39mmax_len:\n\u001b[1;32m     58\u001b[0m     last \u001b[38;5;241m=\u001b[39m ppl[\u001b[38;5;241m-\u001b[39m\u001b[38;5;241m1\u001b[39m]\n\u001b[0;32m---> 59\u001b[0m     ppl \u001b[38;5;241m=\u001b[39m ppl \u001b[38;5;241m+\u001b[39m (\u001b[43m[\u001b[49m\u001b[43mlast\u001b[49m\u001b[43m]\u001b[49m\u001b[43m \u001b[49m\u001b[38;5;241;43m*\u001b[39;49m\u001b[43m \u001b[49m\u001b[38;5;28;43mself\u001b[39;49m\u001b[38;5;241;43m.\u001b[39;49m\u001b[43mmax_len\u001b[49m\u001b[43m \u001b[49m\u001b[38;5;241;43m-\u001b[39;49m\u001b[43m \u001b[49m\u001b[38;5;28;43mlen\u001b[39;49m\u001b[43m(\u001b[49m\u001b[43mppl\u001b[49m\u001b[43m)\u001b[49m)\n\u001b[1;32m     60\u001b[0m \u001b[38;5;28;01mreturn\u001b[39;00m torch\u001b[38;5;241m.\u001b[39mtensor(ppl)\n",
      "\u001b[0;31mTypeError\u001b[0m: unsupported operand type(s) for -: 'list' and 'int'"
     ]
    }
   ],
   "source": [
    "loader = dataloader.DataLoader(\n",
    "    TaskC(word2idx=word2idx, split=\"train\"),\n",
    "    batch_size=32,\n",
    "    shuffle=True,\n",
    ")\n",
    "\n",
    "optimizer = torch.optim.AdamW(model.parameters(), lr=1e-3)\n",
    "criterion = nn.CrossEntropyLoss()\n",
    "\n",
    "train(model, loader, optimizer, criterion)"
   ]
  }
 ],
 "metadata": {
  "kernelspec": {
   "display_name": "env",
   "language": "python",
   "name": "python3"
  },
  "language_info": {
   "codemirror_mode": {
    "name": "ipython",
    "version": 3
   },
   "file_extension": ".py",
   "mimetype": "text/x-python",
   "name": "python",
   "nbconvert_exporter": "python",
   "pygments_lexer": "ipython3",
   "version": "3.11.4"
  }
 },
 "nbformat": 4,
 "nbformat_minor": 2
}
