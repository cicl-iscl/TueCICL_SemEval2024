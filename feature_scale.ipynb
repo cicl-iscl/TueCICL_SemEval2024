{
 "cells": [
  {
   "cell_type": "code",
   "execution_count": 31,
   "metadata": {},
   "outputs": [],
   "source": [
    "import json\n",
    "import numpy as np"
   ]
  },
  {
   "cell_type": "code",
   "execution_count": 32,
   "metadata": {},
   "outputs": [],
   "source": [
    "f_train = \"data/ppl_train.json\"\n",
    "f_dev = \"data/ppl_dev.json\"\n",
    "\n",
    "with open(f_train, \"r\") as f:\n",
    "    train = json.load(f)\n",
    "\n",
    "with open(f_dev, \"r\") as f:\n",
    "    dev = json.load(f)\n",
    "    "
   ]
  },
  {
   "cell_type": "code",
   "execution_count": 33,
   "metadata": {},
   "outputs": [],
   "source": [
    "def get_scaler(values):\n",
    "    a = np.array(values)\n",
    "    stdev = a.std()\n",
    "    mean = a.mean()\n",
    "    def z(v):\n",
    "        return (v - mean) / stdev\n",
    "    return z"
   ]
  },
  {
   "cell_type": "code",
   "execution_count": 34,
   "metadata": {},
   "outputs": [],
   "source": [
    "def m(v, vmax=5000):\n",
    "    return min(v, vmax)"
   ]
  },
  {
   "cell_type": "code",
   "execution_count": 35,
   "metadata": {},
   "outputs": [],
   "source": [
    "val_1, val_2, val_3 = [], [], []\n",
    "\n",
    "\n",
    "for doc in train:\n",
    "    for token in doc:\n",
    "        val_1.append(m(token[0]))\n",
    "        val_2.append(m(token[1]))\n",
    "        val_3.append(m(token[2]))\n",
    "        \n",
    "z_1 = get_scaler(val_1)\n",
    "z_2 = get_scaler(val_2)\n",
    "z_3 = get_scaler(val_3)"
   ]
  },
  {
   "cell_type": "code",
   "execution_count": 36,
   "metadata": {},
   "outputs": [],
   "source": [
    "def map_set(target):\n",
    "    result = []\n",
    "    for doc in target:\n",
    "        mapped_doc = []\n",
    "        for token in doc:\n",
    "            mapped_token = [\n",
    "                z_1(m(token[0])),\n",
    "                z_2(m(token[1])),\n",
    "                z_3(m(token[2]))\n",
    "            ]\n",
    "            mapped_doc.append(mapped_token)\n",
    "        result.append(mapped_doc)\n",
    "    return result\n",
    "\n",
    "\n",
    "mapped_train, mapped_dev = map_set(train), map_set(dev)\n"
   ]
  },
  {
   "cell_type": "code",
   "execution_count": 38,
   "metadata": {},
   "outputs": [],
   "source": [
    "with open(\"data/ppl_train_scaled.json\", \"w\") as f:\n",
    "    json.dump(mapped_train, f)\n",
    "    \n",
    "with open(\"data/ppl_dev_scaled.json\", \"w\") as f:\n",
    "    json.dump(mapped_dev, f)"
   ]
  }
 ],
 "metadata": {
  "kernelspec": {
   "display_name": "env",
   "language": "python",
   "name": "python3"
  },
  "language_info": {
   "codemirror_mode": {
    "name": "ipython",
    "version": 3
   },
   "file_extension": ".py",
   "mimetype": "text/x-python",
   "name": "python",
   "nbconvert_exporter": "python",
   "pygments_lexer": "ipython3",
   "version": "3.11.4"
  }
 },
 "nbformat": 4,
 "nbformat_minor": 2
}
