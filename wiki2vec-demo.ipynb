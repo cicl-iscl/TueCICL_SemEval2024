{
 "cells": [
  {
   "cell_type": "code",
   "execution_count": 1,
   "metadata": {},
   "outputs": [],
   "source": [
    "import torch\n",
    "import torch.nn as nn"
   ]
  },
  {
   "cell_type": "code",
   "execution_count": 11,
   "metadata": {},
   "outputs": [],
   "source": [
    "word2idx = {}\n",
    "idx2word = {}\n",
    "emb_raw = []\n",
    "\n",
    "with open(\"wiki2vec/enwiki_20180420_500d.txt\") as f:\n",
    "    next(f)\n",
    "    for i, line in enumerate(f):\n",
    "        if not line:\n",
    "            continue\n",
    "        try:\n",
    "            spl = line.split()\n",
    "            vec = [float(x) for x in spl[-500:]]\n",
    "            word = \" \".join(spl[:-500])\n",
    "            emb_raw.append(vec)\n",
    "            word2idx[word] = i\n",
    "            idx2word[i] = word\n",
    "        except Exception as e: \n",
    "            print(e)\n",
    "            print(line)\n",
    "\n",
    "\n",
    "        "
   ]
  },
  {
   "cell_type": "code",
   "execution_count": 12,
   "metadata": {},
   "outputs": [],
   "source": [
    "PAD = \"<PAD>\"\n",
    "UNK = \"<UNK>\"\n",
    "word2idx[PAD] = len(word2idx)\n",
    "word2idx[UNK] = len(word2idx)\n",
    "idx2word[len(idx2word)] = PAD\n",
    "idx2word[len(idx2word)] = UNK\n",
    "emb_raw.append([0.0]*500)\n",
    "emb_raw.append([0.0]*500)"
   ]
  },
  {
   "cell_type": "code",
   "execution_count": 12,
   "metadata": {},
   "outputs": [],
   "source": [
    "import pickle\n",
    "with open(\"wiki2vec/dump.pkl\", \"wb\") as f:\n",
    "    pickle.dump((word2idx, idx2word, emb_raw), f)"
   ]
  },
  {
   "cell_type": "code",
   "execution_count": 13,
   "metadata": {},
   "outputs": [],
   "source": [
    "import pickle\n",
    "with open(\"wiki2vec/dump_500_t.pkl\", \"wb\") as f:\n",
    "    t = torch.tensor(emb_raw)\n",
    "    pickle.dump((word2idx, idx2word, t), f)"
   ]
  }
 ],
 "metadata": {
  "kernelspec": {
   "display_name": "Python 3 (ipykernel)",
   "language": "python",
   "name": "python3"
  },
  "language_info": {
   "codemirror_mode": {
    "name": "ipython",
    "version": 3
   },
   "file_extension": ".py",
   "mimetype": "text/x-python",
   "name": "python",
   "nbconvert_exporter": "python",
   "pygments_lexer": "ipython3",
   "version": "3.11.4"
  }
 },
 "nbformat": 4,
 "nbformat_minor": 4
}
