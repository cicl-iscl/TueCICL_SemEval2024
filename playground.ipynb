{
 "cells": [
  {
   "cell_type": "code",
   "execution_count": 5,
   "metadata": {},
   "outputs": [],
   "source": [
    "import torch\n",
    "import torch.nn as nn"
   ]
  },
  {
   "cell_type": "code",
   "execution_count": 2,
   "metadata": {},
   "outputs": [
    {
     "data": {
      "text/plain": [
       "tensor([[10,  1,  2,  4,  5,  6, 11]])"
      ]
     },
     "execution_count": 2,
     "metadata": {},
     "output_type": "execute_result"
    }
   ],
   "source": [
    "a = torch.tensor([\n",
    "    [1, 2, 4, 5, 6],\n",
    "])\n",
    "\n",
    "bos = 10\n",
    "eos = 11\n",
    "\n",
    "b = torch.cat((torch.tensor([[bos]]), a, torch.tensor([[eos]])), dim=1)\n",
    "b"
   ]
  },
  {
   "cell_type": "code",
   "execution_count": 3,
   "metadata": {},
   "outputs": [
    {
     "name": "stdout",
     "output_type": "stream",
     "text": [
      "torch.Size([3, 5]) tensor([[-0.7534, -1.0710,  0.8329,  0.7657,  0.6517],\n",
      "        [-1.4071, -0.0265,  0.9603,  0.7727, -0.8400],\n",
      "        [-0.6316, -0.4739,  0.0665, -0.1217, -0.7048]], requires_grad=True)\n",
      "torch.Size([3]) tensor([1, 3, 0])\n",
      "tensor(2.0147, grad_fn=<NllLossBackward0>)\n"
     ]
    }
   ],
   "source": [
    "loss = nn.CrossEntropyLoss()\n",
    "input = torch.randn(3, 5, requires_grad=True)\n",
    "target = torch.empty(3, dtype=torch.long).random_(5)\n",
    "output = loss(input, target)\n",
    "print(input.shape, input)\n",
    "print(target.shape, target)\n",
    "print(output)"
   ]
  },
  {
   "cell_type": "code",
   "execution_count": 4,
   "metadata": {},
   "outputs": [
    {
     "name": "stdout",
     "output_type": "stream",
     "text": [
      "torch.Size([3, 2])\n",
      "torch.Size([3])\n"
     ]
    },
    {
     "data": {
      "text/plain": [
       "tensor(0., dtype=torch.float64)"
      ]
     },
     "execution_count": 4,
     "metadata": {},
     "output_type": "execute_result"
    }
   ],
   "source": [
    "l = nn.CrossEntropyLoss()\n",
    "\n",
    "y_pred = torch.tensor([\n",
    "    [0, 1],\n",
    "    [1, 0],\n",
    "    [0, 1],\n",
    "], dtype=torch.float64).log()\n",
    "\n",
    "\n",
    "y_true = torch.tensor([\n",
    "    1,\n",
    "    0,\n",
    "    1\n",
    "], dtype=torch.long)\n",
    "\n",
    "print(y_pred.shape)\n",
    "print(y_true.shape)\n",
    "l(y_pred, y_true)"
   ]
  },
  {
   "cell_type": "code",
   "execution_count": 5,
   "metadata": {},
   "outputs": [
    {
     "name": "stdout",
     "output_type": "stream",
     "text": [
      "torch.Size([2, 2, 4]) torch.Size([2, 2, 3]) torch.Size([2, 2, 7])\n",
      "tensor([[[ 1,  2,  3,  4, 10, 11, 12],\n",
      "         [ 1,  2,  3,  4, 15, 16, 17]],\n",
      "\n",
      "        [[ 2,  3,  4,  5, 20, 21, 22],\n",
      "         [ 2,  3,  4,  5, 20, 21, 22]]])\n"
     ]
    }
   ],
   "source": [
    "a = torch.tensor([\n",
    "    [[1, 2, 3, 4], [1, 2, 3, 4]],\n",
    "    [[2, 3, 4, 5], [2, 3, 4, 5]]\n",
    "])\n",
    "\n",
    "b = torch.tensor([\n",
    "    [[10, 11, 12], [15, 16, 17]],\n",
    "    [[20, 21, 22], [20, 21, 22]]\n",
    "])\n",
    "\n",
    "c = torch.cat((a, b), dim=-1)\n",
    "print(a.shape, b.shape, c.shape)\n",
    "print(c)"
   ]
  },
  {
   "cell_type": "code",
   "execution_count": 6,
   "metadata": {},
   "outputs": [
    {
     "data": {
      "text/plain": [
       "tensor(1.1513)"
      ]
     },
     "execution_count": 6,
     "metadata": {},
     "output_type": "execute_result"
    }
   ],
   "source": [
    "l = nn.NLLLoss()\n",
    "\n",
    "pred = torch.tensor([\n",
    "    [0.2, 0.2, 0.6],\n",
    "    [0.3, 0.2, 0.5],\n",
    "]).log()\n",
    "\n",
    "gold = torch.tensor([\n",
    "    0,\n",
    "    2\n",
    "])\n",
    "\n",
    "l(pred, gold)"
   ]
  },
  {
   "cell_type": "code",
   "execution_count": 7,
   "metadata": {},
   "outputs": [
    {
     "data": {
      "text/plain": [
       "tensor([[3.5000, 4.5000, 5.5000, 6.5000, 7.5000],\n",
       "        [3.5000, 4.5000, 5.5000, 6.5000, 7.5000]], dtype=torch.float64)"
      ]
     },
     "execution_count": 7,
     "metadata": {},
     "output_type": "execute_result"
    }
   ],
   "source": [
    "torch.tensor([\n",
    "    [\n",
    "        [1, 2, 3, 4, 5],\n",
    "        [6, 7, 8, 9, 10]\n",
    "    ],\n",
    "    [\n",
    "        [1, 2, 3, 4, 5],\n",
    "        [6, 7, 8, 9, 10]\n",
    "    ],\n",
    "], dtype=torch.float64).mean(dim=1)"
   ]
  },
  {
   "cell_type": "code",
   "execution_count": 8,
   "metadata": {},
   "outputs": [
    {
     "data": {
      "text/plain": [
       "tensor([[-1.0000, -1.0000, -1.0000],\n",
       "        [ 0.0000,  0.3000, -1.0000]])"
      ]
     },
     "execution_count": 8,
     "metadata": {},
     "output_type": "execute_result"
    }
   ],
   "source": [
    "a = torch.tensor(\n",
    "    [\n",
    "        [.2, .2, .2],\n",
    "        [.0, .3, .3]\n",
    "    ]\n",
    ")\n",
    "\n",
    "b = torch.tensor([\n",
    "    [0,0,0],\n",
    "    [1,1,0]\n",
    "])\n",
    "\n",
    "torch.where(b > 0, a, -1)"
   ]
  },
  {
   "cell_type": "code",
   "execution_count": 9,
   "metadata": {},
   "outputs": [
    {
     "data": {
      "text/plain": [
       "tensor([[0.2000, 0.6000, 0.9500],\n",
       "        [0.1667, 0.4333, 0.6667]])"
      ]
     },
     "execution_count": 9,
     "metadata": {},
     "output_type": "execute_result"
    }
   ],
   "source": [
    "batch_size = 2\n",
    "hidden_size = 3\n",
    "\n",
    "a = torch.tensor(\n",
    "    [\n",
    "        [[0.1, .5, 0.9], [0.3, 0.7, 1.0], [0.0, 0.0, 0.0]],\n",
    "        [[0.1, .5, 0.9], [0.3, 0.7, 1.0], [0.1, 0.1, 0.1]],\n",
    "    ]\n",
    ")\n",
    "\n",
    "b = torch.tensor([[1, 1, 0], [1, 1, 1]])\n",
    "\n",
    "c = torch.zeros((batch_size, hidden_size), dtype=torch.float32)\n",
    "\n",
    "for i in range(a.shape[0]):\n",
    "    values = a[i]\n",
    "    attention = b[i]\n",
    "    filtered = torch.zeros((hidden_size,))\n",
    "    count = 0\n",
    "    for j in range(a.shape[1]):\n",
    "        if attention[j].item() == 1:\n",
    "            filtered += values[j]\n",
    "            count += 1\n",
    "    filtered = filtered / count\n",
    "    c[i] = filtered\n",
    "\n",
    "c"
   ]
  },
  {
   "cell_type": "code",
   "execution_count": 10,
   "metadata": {},
   "outputs": [
    {
     "data": {
      "text/plain": [
       "tensor([[0.2000, 0.6000, 0.9500],\n",
       "        [0.1667, 0.4333, 0.6667]])"
      ]
     },
     "execution_count": 10,
     "metadata": {},
     "output_type": "execute_result"
    }
   ],
   "source": [
    "batch_size = 2\n",
    "hidden_size = 3\n",
    "\n",
    "a = torch.tensor(\n",
    "    [\n",
    "        [[0.1, .5, 0.9], [0.3, 0.7, 1.0], [0.0, 0.0, 0.0]],\n",
    "        [[0.1, .5, 0.9], [0.3, 0.7, 1.0], [0.1, 0.1, 0.1]],\n",
    "    ]\n",
    ")\n",
    "\n",
    "b = torch.tensor([[1, 1, 0], [1, 1, 1]])\n",
    "\n",
    "filter = b.reshape(2, 3, 1).expand(2, 3, 3)\n",
    "\n",
    "c = torch.where(filter > 0, a, 0)\n",
    "\n",
    "l = b.sum(dim=1).reshape(-1, 1)\n",
    "s = c.sum(dim=1)\n",
    "s / l"
   ]
  },
  {
   "cell_type": "code",
   "execution_count": 4,
   "metadata": {},
   "outputs": [
    {
     "name": "stdout",
     "output_type": "stream",
     "text": [
      "              precision    recall  f1-score   support\n",
      "\n",
      "           0       0.59      0.83      0.69      2500\n",
      "           1       0.72      0.43      0.54      2500\n",
      "\n",
      "    accuracy                           0.63      5000\n",
      "   macro avg       0.66      0.63      0.62      5000\n",
      "weighted avg       0.66      0.63      0.62      5000\n",
      "\n"
     ]
    }
   ],
   "source": [
    "cp = torch.load(\"checkpoints/charlm_256_1_fullvocab/best.pt\")\n",
    "\n",
    "print(cp[\"report\"])"
   ]
  },
  {
   "cell_type": "code",
   "execution_count": null,
   "metadata": {},
   "outputs": [
    {
     "ename": "",
     "evalue": "",
     "output_type": "error",
     "traceback": [
      "\u001b[1;31mThe kernel failed to start as the Python Environment 'env' is no longer available. Consider selecting another kernel or refreshing the list of Python Environments."
     ]
    }
   ],
   "source": [
    "a = {\"a\": 1}\n",
    "b = {\"b\": 2}\n",
    "c = {\"a\": 3}\n",
    "\n",
    "{**a, **b, **c}"
   ]
  },
  {
   "cell_type": "code",
   "execution_count": 6,
   "metadata": {},
   "outputs": [
    {
     "data": {
      "text/plain": [
       "tensor([[[ 0.1000,  0.5000,  0.9000],\n",
       "         [ 0.3000,  0.7000,  1.0000],\n",
       "         [ 0.0000,  0.0000, 11.0000]],\n",
       "\n",
       "        [[ 0.1000,  0.5000,  0.9000],\n",
       "         [ 0.3000,  0.7000,  1.0000],\n",
       "         [ 0.1000,  0.1000, 12.0000]]])"
      ]
     },
     "execution_count": 6,
     "metadata": {},
     "output_type": "execute_result"
    }
   ],
   "source": [
    "a = torch.tensor(\n",
    "    [\n",
    "        [[0.1, .5, 0.9], [0.3, 0.7, 1.0], [0.0, 0.0, 11.0]],\n",
    "        [[0.1, .5, 0.9], [0.3, 0.7, 1.0], [0.1, 0.1, 0.1]],\n",
    "        [[0.1, .5, 0.9], [0.3, 0.7, 1.0], [0.1, 0.1, 12.0]],\n",
    "    ]\n",
    ")\n",
    "\n",
    "b = a[[0, 2], :, :]\n",
    "b"
   ]
  }
 ],
 "metadata": {
  "kernelspec": {
   "display_name": "Python 3 (ipykernel)",
   "language": "python",
   "name": "python3"
  },
  "language_info": {
   "codemirror_mode": {
    "name": "ipython",
    "version": 3
   },
   "file_extension": ".py",
   "mimetype": "text/x-python",
   "name": "python",
   "nbconvert_exporter": "python",
   "pygments_lexer": "ipython3",
   "version": "3.11.4"
  }
 },
 "nbformat": 4,
 "nbformat_minor": 4
}
