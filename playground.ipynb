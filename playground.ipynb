{
 "cells": [
  {
   "cell_type": "code",
   "execution_count": 2,
   "metadata": {},
   "outputs": [],
   "source": [
    "import torch\n",
    "import torch.nn as nn"
   ]
  },
  {
   "cell_type": "code",
   "execution_count": 5,
   "metadata": {},
   "outputs": [
    {
     "data": {
      "text/plain": [
       "tensor([[10,  1,  2,  4,  5,  6, 11]])"
      ]
     },
     "execution_count": 5,
     "metadata": {},
     "output_type": "execute_result"
    }
   ],
   "source": [
    "a = torch.tensor([\n",
    "    [1, 2, 4, 5, 6],\n",
    "])\n",
    "\n",
    "bos = 10\n",
    "eos = 11\n",
    "\n",
    "b = torch.cat((torch.tensor([[bos]]), a, torch.tensor([[eos]])), dim=1)\n",
    "b"
   ]
  },
  {
   "cell_type": "code",
   "execution_count": 36,
   "metadata": {},
   "outputs": [
    {
     "name": "stdout",
     "output_type": "stream",
     "text": [
      "torch.Size([3, 5]) tensor([[-0.7834,  0.0381,  0.4118,  1.0463, -2.5740],\n",
      "        [-1.4841, -0.0966,  0.9363, -1.1974,  0.0805],\n",
      "        [ 0.7239,  1.3680, -1.2770, -0.3372, -0.7348]], requires_grad=True)\n",
      "torch.Size([3]) tensor([0, 2, 4])\n",
      "tensor(1.9984, grad_fn=<NllLossBackward0>)\n"
     ]
    }
   ],
   "source": [
    "loss = nn.CrossEntropyLoss()\n",
    "input = torch.randn(3, 5, requires_grad=True)\n",
    "target = torch.empty(3, dtype=torch.long).random_(5)\n",
    "output = loss(input, target)\n",
    "print(input.shape, input)\n",
    "print(target.shape, target)\n",
    "print(output)"
   ]
  },
  {
   "cell_type": "code",
   "execution_count": 57,
   "metadata": {},
   "outputs": [
    {
     "name": "stdout",
     "output_type": "stream",
     "text": [
      "torch.Size([3, 2])\n",
      "torch.Size([3])\n"
     ]
    },
    {
     "data": {
      "text/plain": [
       "tensor(0., dtype=torch.float64)"
      ]
     },
     "execution_count": 57,
     "metadata": {},
     "output_type": "execute_result"
    }
   ],
   "source": [
    "l = nn.CrossEntropyLoss()\n",
    "\n",
    "y_pred = torch.tensor([\n",
    "    [0, 1],\n",
    "    [1, 0],\n",
    "    [0, 1],\n",
    "], dtype=torch.float64).log()\n",
    "\n",
    "\n",
    "y_true = torch.tensor([\n",
    "    1,\n",
    "    0,\n",
    "    1\n",
    "], dtype=torch.long)\n",
    "\n",
    "print(y_pred.shape)\n",
    "print(y_true.shape)\n",
    "l(y_pred, y_true)"
   ]
  },
  {
   "cell_type": "code",
   "execution_count": 11,
   "metadata": {},
   "outputs": [
    {
     "name": "stdout",
     "output_type": "stream",
     "text": [
      "torch.Size([2, 2, 4]) torch.Size([2, 2, 3]) torch.Size([2, 2, 7])\n",
      "tensor([[[ 1,  2,  3,  4, 10, 11, 12],\n",
      "         [ 1,  2,  3,  4, 15, 16, 17]],\n",
      "\n",
      "        [[ 2,  3,  4,  5, 20, 21, 22],\n",
      "         [ 2,  3,  4,  5, 20, 21, 22]]])\n"
     ]
    }
   ],
   "source": [
    "a = torch.tensor([\n",
    "    [[1, 2, 3, 4], [1, 2, 3, 4]],\n",
    "    [[2, 3, 4, 5], [2, 3, 4, 5]]\n",
    "])\n",
    "\n",
    "b = torch.tensor([\n",
    "    [[10, 11, 12], [15, 16, 17]],\n",
    "    [[20, 21, 22], [20, 21, 22]]\n",
    "])\n",
    "\n",
    "c = torch.cat((a, b), dim=-1)\n",
    "print(a.shape, b.shape, c.shape)\n",
    "print(c)"
   ]
  }
 ],
 "metadata": {
  "kernelspec": {
   "display_name": "env",
   "language": "python",
   "name": "python3"
  },
  "language_info": {
   "codemirror_mode": {
    "name": "ipython",
    "version": 3
   },
   "file_extension": ".py",
   "mimetype": "text/x-python",
   "name": "python",
   "nbconvert_exporter": "python",
   "pygments_lexer": "ipython3",
   "version": "3.11.4"
  }
 },
 "nbformat": 4,
 "nbformat_minor": 2
}
