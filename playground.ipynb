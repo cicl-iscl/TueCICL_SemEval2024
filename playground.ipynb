{
 "cells": [
  {
   "cell_type": "code",
   "execution_count": 2,
   "metadata": {},
   "outputs": [],
   "source": [
    "import torch\n",
    "import torch.nn as nn"
   ]
  },
  {
   "cell_type": "code",
   "execution_count": 3,
   "metadata": {},
   "outputs": [
    {
     "data": {
      "text/plain": [
       "tensor([[10,  1,  2,  4,  5,  6, 11]])"
      ]
     },
     "execution_count": 3,
     "metadata": {},
     "output_type": "execute_result"
    }
   ],
   "source": [
    "a = torch.tensor([\n",
    "    [1, 2, 4, 5, 6],\n",
    "])\n",
    "\n",
    "bos = 10\n",
    "eos = 11\n",
    "\n",
    "b = torch.cat((torch.tensor([[bos]]), a, torch.tensor([[eos]])), dim=1)\n",
    "b"
   ]
  },
  {
   "cell_type": "code",
   "execution_count": 4,
   "metadata": {},
   "outputs": [
    {
     "name": "stdout",
     "output_type": "stream",
     "text": [
      "torch.Size([3, 5]) tensor([[ 0.2940, -0.6474, -0.2855, -0.8119,  1.0651],\n",
      "        [-0.3707,  0.4073, -0.6085, -2.9856,  1.8633],\n",
      "        [ 1.0178, -0.4944, -0.2255, -0.3667,  1.2680]], requires_grad=True)\n",
      "torch.Size([3]) tensor([4, 4, 3])\n",
      "tensor(1.1924, grad_fn=<NllLossBackward0>)\n"
     ]
    }
   ],
   "source": [
    "loss = nn.CrossEntropyLoss()\n",
    "input = torch.randn(3, 5, requires_grad=True)\n",
    "target = torch.empty(3, dtype=torch.long).random_(5)\n",
    "output = loss(input, target)\n",
    "print(input.shape, input)\n",
    "print(target.shape, target)\n",
    "print(output)"
   ]
  },
  {
   "cell_type": "code",
   "execution_count": 5,
   "metadata": {},
   "outputs": [
    {
     "name": "stdout",
     "output_type": "stream",
     "text": [
      "torch.Size([3, 2])\n",
      "torch.Size([3])\n"
     ]
    },
    {
     "data": {
      "text/plain": [
       "tensor(0., dtype=torch.float64)"
      ]
     },
     "execution_count": 5,
     "metadata": {},
     "output_type": "execute_result"
    }
   ],
   "source": [
    "l = nn.CrossEntropyLoss()\n",
    "\n",
    "y_pred = torch.tensor([\n",
    "    [0, 1],\n",
    "    [1, 0],\n",
    "    [0, 1],\n",
    "], dtype=torch.float64).log()\n",
    "\n",
    "\n",
    "y_true = torch.tensor([\n",
    "    1,\n",
    "    0,\n",
    "    1\n",
    "], dtype=torch.long)\n",
    "\n",
    "print(y_pred.shape)\n",
    "print(y_true.shape)\n",
    "l(y_pred, y_true)"
   ]
  },
  {
   "cell_type": "code",
   "execution_count": 6,
   "metadata": {},
   "outputs": [
    {
     "name": "stdout",
     "output_type": "stream",
     "text": [
      "torch.Size([2, 2, 4]) torch.Size([2, 2, 3]) torch.Size([2, 2, 7])\n",
      "tensor([[[ 1,  2,  3,  4, 10, 11, 12],\n",
      "         [ 1,  2,  3,  4, 15, 16, 17]],\n",
      "\n",
      "        [[ 2,  3,  4,  5, 20, 21, 22],\n",
      "         [ 2,  3,  4,  5, 20, 21, 22]]])\n"
     ]
    }
   ],
   "source": [
    "a = torch.tensor([\n",
    "    [[1, 2, 3, 4], [1, 2, 3, 4]],\n",
    "    [[2, 3, 4, 5], [2, 3, 4, 5]]\n",
    "])\n",
    "\n",
    "b = torch.tensor([\n",
    "    [[10, 11, 12], [15, 16, 17]],\n",
    "    [[20, 21, 22], [20, 21, 22]]\n",
    "])\n",
    "\n",
    "c = torch.cat((a, b), dim=-1)\n",
    "print(a.shape, b.shape, c.shape)\n",
    "print(c)"
   ]
  },
  {
   "cell_type": "code",
   "execution_count": 8,
   "metadata": {},
   "outputs": [
    {
     "data": {
      "text/plain": [
       "tensor(1.1513)"
      ]
     },
     "execution_count": 8,
     "metadata": {},
     "output_type": "execute_result"
    }
   ],
   "source": [
    "l = nn.NLLLoss()\n",
    "\n",
    "pred = torch.tensor([\n",
    "    [0.2, 0.2, 0.6],\n",
    "    [0.3, 0.2, 0.5],\n",
    "]).log()\n",
    "\n",
    "gold = torch.tensor([\n",
    "    0,\n",
    "    2\n",
    "])\n",
    "\n",
    "l(pred, gold)"
   ]
  },
  {
   "cell_type": "code",
   "execution_count": null,
   "metadata": {},
   "outputs": [
    {
     "data": {
      "text/plain": [
       "tensor([[3.5000, 4.5000, 5.5000, 6.5000, 7.5000],\n",
       "        [3.5000, 4.5000, 5.5000, 6.5000, 7.5000]], dtype=torch.float64)"
      ]
     },
     "execution_count": 5,
     "metadata": {},
     "output_type": "execute_result"
    }
   ],
   "source": [
    "torch.tensor([\n",
    "    [\n",
    "        [1, 2, 3, 4, 5],\n",
    "        [6, 7, 8, 9, 10]\n",
    "    ],\n",
    "    [\n",
    "        [1, 2, 3, 4, 5],\n",
    "        [6, 7, 8, 9, 10]\n",
    "    ],\n",
    "], dtype=torch.float64).mean(dim=1)"
   ]
  },
  {
   "cell_type": "code",
   "execution_count": null,
   "metadata": {},
   "outputs": [
    {
     "ename": "NameError",
     "evalue": "name 'torch' is not defined",
     "output_type": "error",
     "traceback": [
      "\u001b[0;31m---------------------------------------------------------------------------\u001b[0m",
      "\u001b[0;31mNameError\u001b[0m                                 Traceback (most recent call last)",
      "Cell \u001b[0;32mIn[1], line 1\u001b[0m\n\u001b[0;32m----> 1\u001b[0m a \u001b[38;5;241m=\u001b[39m \u001b[43mtorch\u001b[49m\u001b[38;5;241m.\u001b[39mtensor(\n\u001b[1;32m      2\u001b[0m     [\n\u001b[1;32m      3\u001b[0m         [\u001b[38;5;241m.2\u001b[39m, \u001b[38;5;241m.2\u001b[39m, \u001b[38;5;241m.2\u001b[39m],\n\u001b[1;32m      4\u001b[0m         [\u001b[38;5;241m.0\u001b[39m, \u001b[38;5;241m.3\u001b[39m, \u001b[38;5;241m.3\u001b[39m]\n\u001b[1;32m      5\u001b[0m     ]\n\u001b[1;32m      6\u001b[0m )\n\u001b[1;32m      8\u001b[0m b \u001b[38;5;241m=\u001b[39m torch\u001b[38;5;241m.\u001b[39mtensor([\n\u001b[1;32m      9\u001b[0m     [\u001b[38;5;241m0\u001b[39m,\u001b[38;5;241m0\u001b[39m,\u001b[38;5;241m0\u001b[39m],\n\u001b[1;32m     10\u001b[0m     [\u001b[38;5;241m1\u001b[39m,\u001b[38;5;241m1\u001b[39m,\u001b[38;5;241m0\u001b[39m]\n\u001b[1;32m     11\u001b[0m ])\n\u001b[1;32m     13\u001b[0m torch\u001b[38;5;241m.\u001b[39mwhere(b \u001b[38;5;241m>\u001b[39m \u001b[38;5;241m0\u001b[39m, a, \u001b[38;5;241m-\u001b[39m\u001b[38;5;241m1\u001b[39m)\n",
      "\u001b[0;31mNameError\u001b[0m: name 'torch' is not defined"
     ]
    }
   ],
   "source": [
    "a = torch.tensor(\n",
    "    [\n",
    "        [.2, .2, .2],\n",
    "        [.0, .3, .3]\n",
    "    ]\n",
    ")\n",
    "\n",
    "b = torch.tensor([\n",
    "    [0,0,0],\n",
    "    [1,1,0]\n",
    "])\n",
    "\n",
    "torch.where(b > 0, a, -1)"
   ]
  }
 ],
 "metadata": {
  "kernelspec": {
   "display_name": "env",
   "language": "python",
   "name": "python3"
  },
  "language_info": {
   "codemirror_mode": {
    "name": "ipython",
    "version": 3
   },
   "file_extension": ".py",
   "mimetype": "text/x-python",
   "name": "python",
   "nbconvert_exporter": "python",
   "pygments_lexer": "ipython3",
   "version": "3.11.4"
  }
 },
 "nbformat": 4,
 "nbformat_minor": 2
}
