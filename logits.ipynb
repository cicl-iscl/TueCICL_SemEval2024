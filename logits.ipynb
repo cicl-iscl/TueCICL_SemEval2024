{
 "cells": [
  {
   "cell_type": "code",
   "execution_count": 30,
   "metadata": {},
   "outputs": [],
   "source": [
    "from transformers import GPT2Tokenizer, AutoModelForCausalLM\n",
    "from torch.nn.functional import log_softmax\n",
    "import torch\n",
    "import numpy as np\n",
    "import json\n",
    "from matplotlib import pyplot as plt\n",
    "from tqdm import tqdm"
   ]
  },
  {
   "cell_type": "code",
   "execution_count": 2,
   "metadata": {},
   "outputs": [],
   "source": [
    "model = AutoModelForCausalLM.from_pretrained('gpt2')\n",
    "tokenizer = GPT2Tokenizer.from_pretrained('gpt2')\n"
   ]
  },
  {
   "cell_type": "code",
   "execution_count": 14,
   "metadata": {},
   "outputs": [
    {
     "data": {
      "text/plain": [
       "([50256,\n",
       "  7975,\n",
       "  525,\n",
       "  23914,\n",
       "  1847,\n",
       "  16284,\n",
       "  259,\n",
       "  16668,\n",
       "  16149,\n",
       "  26858,\n",
       "  75,\n",
       "  8040,\n",
       "  50256],\n",
       " [3, 5, 6, 8, 9, 11])"
      ]
     },
     "execution_count": 14,
     "metadata": {},
     "output_type": "execute_result"
    }
   ],
   "source": [
    "def encode(string):\n",
    "    ids, breakpoints = [], []\n",
    "    spl = string.split()\n",
    "    for tok in spl:\n",
    "        encoded = tokenizer.encode(tok)\n",
    "        ids.extend(encoded)\n",
    "        breakpoints.append(len(ids))\n",
    "    ids = [tokenizer.bos_token_id] + ids + [tokenizer.eos_token_id]\n",
    "    return ids, breakpoints\n",
    "    \n",
    "encode(\"Outperforms ALIGN in supervised entity linking\")"
   ]
  },
  {
   "cell_type": "code",
   "execution_count": 15,
   "metadata": {},
   "outputs": [],
   "source": [
    "taskC_train = []\n",
    "with open (\"data/subtaskC_train.jsonl\", \"r\", encoding=\"utf-8\") as f:\n",
    "    for line in f:\n",
    "        if line:\n",
    "            parsed = json.loads(line)\n",
    "            taskC_train.append((parsed[\"text\"], parsed[\"label\"], parsed[\"id\"]))\n",
    "        "
   ]
  },
  {
   "cell_type": "code",
   "execution_count": 16,
   "metadata": {},
   "outputs": [],
   "source": [
    "def perplexity(logits, labels):\n",
    "    sm = log_softmax(logits, dim=-1)\n",
    "    probs = []\n",
    "    for i in range(labels.shape[1] - 1):\n",
    "        next_idx = labels[0, i + 1].item()\n",
    "        scores = sm[0, i, :]\n",
    "        prob_next_idx = scores[next_idx].item()\n",
    "        probs.append(prob_next_idx)\n",
    "\n",
    "    probs = np.array(probs)\n",
    "    probs = np.sum(probs)\n",
    "    l = labels.shape[1] - 1\n",
    "    ppl = - (1 / l) * np.sum(probs)\n",
    "    return np.exp(ppl)"
   ]
  },
  {
   "cell_type": "code",
   "execution_count": 39,
   "metadata": {},
   "outputs": [
    {
     "name": "stderr",
     "output_type": "stream",
     "text": [
      "  0%|          | 14/3649 [02:00<8:39:46,  8.58s/it]\n"
     ]
    },
    {
     "ename": "KeyboardInterrupt",
     "evalue": "",
     "output_type": "error",
     "traceback": [
      "\u001b[0;31m---------------------------------------------------------------------------\u001b[0m",
      "\u001b[0;31mKeyboardInterrupt\u001b[0m                         Traceback (most recent call last)",
      "Cell \u001b[0;32mIn[39], line 34\u001b[0m\n\u001b[1;32m     32\u001b[0m         partiad_ids \u001b[38;5;241m=\u001b[39m input_ids[:, \u001b[38;5;241m0\u001b[39m:bp \u001b[38;5;241m+\u001b[39m \u001b[38;5;241m1\u001b[39m]\n\u001b[1;32m     33\u001b[0m         partial_logits \u001b[38;5;241m=\u001b[39m out\u001b[38;5;241m.\u001b[39mlogits[:, \u001b[38;5;241m0\u001b[39m:bp \u001b[38;5;241m+\u001b[39m \u001b[38;5;241m1\u001b[39m, :]\n\u001b[0;32m---> 34\u001b[0m         ppl \u001b[38;5;241m=\u001b[39m \u001b[43mperplexity\u001b[49m\u001b[43m(\u001b[49m\u001b[43mpartial_logits\u001b[49m\u001b[43m,\u001b[49m\u001b[43m \u001b[49m\u001b[43mpartiad_ids\u001b[49m\u001b[43m)\u001b[49m\n\u001b[1;32m     35\u001b[0m         perplexities\u001b[38;5;241m.\u001b[39mappend(ppl)\n\u001b[1;32m     36\u001b[0m result\u001b[38;5;241m.\u001b[39mappend(perplexities)\n",
      "Cell \u001b[0;32mIn[16], line 7\u001b[0m, in \u001b[0;36mperplexity\u001b[0;34m(logits, labels)\u001b[0m\n\u001b[1;32m      5\u001b[0m     next_idx \u001b[38;5;241m=\u001b[39m labels[\u001b[38;5;241m0\u001b[39m, i \u001b[38;5;241m+\u001b[39m \u001b[38;5;241m1\u001b[39m]\u001b[38;5;241m.\u001b[39mitem()\n\u001b[1;32m      6\u001b[0m     scores \u001b[38;5;241m=\u001b[39m sm[\u001b[38;5;241m0\u001b[39m, i, :]\n\u001b[0;32m----> 7\u001b[0m     prob_next_idx \u001b[38;5;241m=\u001b[39m \u001b[43mscores\u001b[49m\u001b[43m[\u001b[49m\u001b[43mnext_idx\u001b[49m\u001b[43m]\u001b[49m\u001b[38;5;241;43m.\u001b[39;49m\u001b[43mitem\u001b[49m\u001b[43m(\u001b[49m\u001b[43m)\u001b[49m\n\u001b[1;32m      8\u001b[0m     probs\u001b[38;5;241m.\u001b[39mappend(prob_next_idx)\n\u001b[1;32m     10\u001b[0m probs \u001b[38;5;241m=\u001b[39m np\u001b[38;5;241m.\u001b[39marray(probs)\n",
      "\u001b[0;31mKeyboardInterrupt\u001b[0m: "
     ]
    }
   ],
   "source": [
    "result = []\n",
    "window_size = 1024\n",
    "slide_amount = 256\n",
    "\n",
    "for i, (text, label, id) in tqdm(enumerate(taskC_train), total=len(taskC_train)):\n",
    "    input_ids, breakpoints = encode(text)\n",
    "    perplexities = []\n",
    "    if len(input_ids) > window_size:\n",
    "        window_start = 0\n",
    "        window_end = window_size\n",
    "        window = input_ids[window_start:window_end]\n",
    "        out = model(torch.tensor(window).unsqueeze(0))\n",
    "        for bp in breakpoints:\n",
    "            if (bp + 1) > window_end:\n",
    "                window_start += slide_amount\n",
    "                window_end += slide_amount\n",
    "                window = input_ids[window_start:window_end]\n",
    "            bp = bp - window_start\n",
    "            partiad_ids = window[0:bp + 1]\n",
    "            partiad_ids = torch.tensor(partiad_ids).unsqueeze(0)\n",
    "            partial_logits = out.logits[:, 0:bp + 1, :]\n",
    "            try:\n",
    "                ppl = perplexity(partial_logits, partiad_ids)\n",
    "                perplexities.append(ppl)\n",
    "            except:\n",
    "                print(partiad_ids.shape, partial_logits.shape, bp, window_start, window_end, len(input_ids))\n",
    "    else:\n",
    "        input_ids = torch.tensor(input_ids).unsqueeze(0)\n",
    "        out = model(input_ids)\n",
    "        for bp in breakpoints:\n",
    "            partiad_ids = input_ids[:, 0:bp + 1]\n",
    "            partial_logits = out.logits[:, 0:bp + 1, :]\n",
    "            ppl = perplexity(partial_logits, partiad_ids)\n",
    "            perplexities.append(ppl)\n",
    "    result.append(perplexities)\n",
    "        \n",
    "    "
   ]
  },
  {
   "cell_type": "code",
   "execution_count": null,
   "metadata": {},
   "outputs": [],
   "source": []
  }
 ],
 "metadata": {
  "kernelspec": {
   "display_name": "env",
   "language": "python",
   "name": "python3"
  },
  "language_info": {
   "codemirror_mode": {
    "name": "ipython",
    "version": 3
   },
   "file_extension": ".py",
   "mimetype": "text/x-python",
   "name": "python",
   "nbconvert_exporter": "python",
   "pygments_lexer": "ipython3",
   "version": "3.11.4"
  }
 },
 "nbformat": 4,
 "nbformat_minor": 2
}
