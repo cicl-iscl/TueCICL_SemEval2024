{
 "cells": [
  {
   "cell_type": "code",
   "execution_count": 20,
   "metadata": {},
   "outputs": [],
   "source": [
    "from transformers import GPT2Tokenizer, AutoModelForCausalLM\n",
    "from torch.nn.functional import log_softmax\n",
    "import torch\n",
    "import numpy as np\n",
    "import json\n",
    "from matplotlib import pyplot as plt"
   ]
  },
  {
   "cell_type": "code",
   "execution_count": 21,
   "metadata": {},
   "outputs": [],
   "source": [
    "model = AutoModelForCausalLM.from_pretrained('gpt2')\n",
    "tokenizer = GPT2Tokenizer.from_pretrained('gpt2')\n"
   ]
  },
  {
   "cell_type": "code",
   "execution_count": 22,
   "metadata": {},
   "outputs": [],
   "source": [
    "def encode(string):\n",
    "    s = f\"{tokenizer.bos_token} {string} {tokenizer.eos_token}\"\n",
    "    return tokenizer.encode(s, return_tensors='pt', add_special_tokens=True)"
   ]
  },
  {
   "cell_type": "code",
   "execution_count": 23,
   "metadata": {},
   "outputs": [
    {
     "data": {
      "text/plain": [
       "208.3806056168213"
      ]
     },
     "execution_count": 23,
     "metadata": {},
     "output_type": "execute_result"
    }
   ],
   "source": [
    "def perplexity(out, labels):\n",
    "    sm = log_softmax(out.logits, dim=-1)\n",
    "    probs = []\n",
    "    for i in range(labels.shape[1] - 1):\n",
    "        next_idx = labels[0, i + 1].item()\n",
    "        scores = sm[0, i, :]\n",
    "        prob_next_idx = scores[next_idx].item()\n",
    "        probs.append(prob_next_idx)\n",
    "\n",
    "    probs = np.array(probs)\n",
    "    probs = np.sum(probs)\n",
    "    l = labels.shape[1] - 1\n",
    "    ppl = - (1 / l) * np.sum(probs)\n",
    "    return np.exp(ppl)\n",
    "\n",
    "def perplexity_seq(seq, tokenizer=None, model=None):\n",
    "    input_ids = tokenizer.encode(seq, return_tensors='pt', add_special_tokens=False)\n",
    "    input_ids = torch.cat([torch.tensor([[tokenizer.bos_token_id]]), input_ids, torch.tensor([[tokenizer.eos_token_id]])], dim=1)\n",
    "    out = model(input_ids)\n",
    "    return perplexity(out, input_ids)\n",
    "\n",
    "perplexity_seq(\"I enjoy walking with my cute dog\", tokenizer=tokenizer, model=model)"
   ]
  },
  {
   "cell_type": "code",
   "execution_count": 24,
   "metadata": {},
   "outputs": [],
   "source": [
    "taskA_train = []\n",
    "with open (\"src/data/subtaskA_train_monolingual.jsonl\", \"r\", encoding=\"utf-8\") as f:\n",
    "    for line in f:\n",
    "        if line:\n",
    "            parsed = json.loads(line)\n",
    "            taskA_train.append((parsed[\"text\"], parsed[\"label\"]))\n",
    "        "
   ]
  },
  {
   "cell_type": "code",
   "execution_count": 25,
   "metadata": {},
   "outputs": [
    {
     "name": "stderr",
     "output_type": "stream",
     "text": [
      "success: 15, fail: 1, last_fail: 6713:   2%|▏         | 17/1000 [00:10<10:14,  1.60it/s]\n",
      "success: 11, fail: 0:   1%|          | 11/1000 [00:04<05:18,  3.11it/s]Token indices sequence length is longer than the specified maximum sequence length for this model (1920 > 1024). Running this sequence through the model will result in indexing errors\n",
      "success: 891, fail: 109, last_fail: 4729: 100%|██████████| 1000/1000 [04:51<00:00,  3.27it/s]"
     ]
    }
   ],
   "source": [
    "import random\n",
    "from tqdm import tqdm\n",
    "\n",
    "random.shuffle(taskA_train)\n",
    "firstk = taskA_train[:1000]\n",
    "result = []\n",
    "success, fail = 0, 0\n",
    "counter = tqdm(total=len(firstk))\n",
    "counter.clear()\n",
    "counter.refresh()\n",
    "fail_txt = None\n",
    "\n",
    "for text, label in firstk:\n",
    "    input_ids = encode(text)\n",
    "    try:\n",
    "        ppl = perplexity_seq(text, tokenizer=tokenizer, model=model)\n",
    "        result.append((label, ppl))\n",
    "        success += 1\n",
    "    except Exception as e:\n",
    "        fail += 1\n",
    "        fail_txt = text\n",
    "    finally:\n",
    "        counter.update(1)\n",
    "        if (fail_txt):\n",
    "            counter.set_description(f\"success: {success}, fail: {fail}, last_fail: {len(fail_txt)}\")\n",
    "        else:\n",
    "            counter.set_description(f\"success: {success}, fail: {fail}\")"
   ]
  },
  {
   "cell_type": "code",
   "execution_count": 29,
   "metadata": {},
   "outputs": [
    {
     "data": {
      "text/plain": [
       "(420, 471)"
      ]
     },
     "execution_count": 29,
     "metadata": {},
     "output_type": "execute_result"
    }
   ],
   "source": [
    "human = [s for s in result if s[0] == 0]\n",
    "machine = [s for s in result if s[0] == 1]\n",
    "len(human), len(machine)"
   ]
  },
  {
   "cell_type": "code",
   "execution_count": 33,
   "metadata": {},
   "outputs": [
    {
     "name": "stdout",
     "output_type": "stream",
     "text": [
      "Mean human perplexity:  34.02315307378502\n",
      "Mean machine perplexity:  16.3579041673553\n"
     ]
    }
   ],
   "source": [
    "h = np.array([s[1] for s in human])\n",
    "m = np.array([s[1] for s in machine])\n",
    "\n",
    "print(\"Mean human perplexity: \", np.mean(h))\n",
    "print(\"Mean machine perplexity: \", np.mean(m))"
   ]
  },
  {
   "cell_type": "code",
   "execution_count": 34,
   "metadata": {},
   "outputs": [
    {
     "data": {
      "image/png": "[encoded data removed]",
      "text/plain": [
       "<Figure size 640x480 with 1 Axes>"
      ]
     },
     "metadata": {},
     "output_type": "display_data"
    }
   ],
   "source": [
    "tok = tokenizer(fail_txt, return_tensors='pt', add_special_tokens=False)\n",
    "data = [\n",
    "    [s[1] for s in human],\n",
    "    [s[1] for s in machine]\n",
    "]\n",
    "\n",
    "plt.boxplot(data)\n",
    "plt.show()"
   ]
  }
 ],
 "metadata": {
  "kernelspec": {
   "display_name": "env",
   "language": "python",
   "name": "python3"
  },
  "language_info": {
   "codemirror_mode": {
    "name": "ipython",
    "version": 3
   },
   "file_extension": ".py",
   "mimetype": "text/x-python",
   "name": "python",
   "nbconvert_exporter": "python",
   "pygments_lexer": "ipython3",
   "version": "3.11.4"
  }
 },
 "nbformat": 4,
 "nbformat_minor": 2
}
