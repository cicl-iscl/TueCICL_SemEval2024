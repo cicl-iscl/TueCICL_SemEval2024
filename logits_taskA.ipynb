{
 "cells": [
  {
   "cell_type": "code",
   "execution_count": 8,
   "metadata": {},
   "outputs": [],
   "source": [
    "from transformers import GPT2Tokenizer, AutoModelForCausalLM\n",
    "from torch.nn.functional import log_softmax\n",
    "import torch\n",
    "import numpy as np\n",
    "import json\n",
    "from matplotlib import pyplot as plt\n",
    "from tqdm import tqdm\n",
    "import random"
   ]
  },
  {
   "cell_type": "code",
   "execution_count": 2,
   "metadata": {},
   "outputs": [],
   "source": [
    "model = AutoModelForCausalLM.from_pretrained('gpt2')\n",
    "tokenizer = GPT2Tokenizer.from_pretrained('gpt2')"
   ]
  },
  {
   "cell_type": "code",
   "execution_count": 4,
   "metadata": {},
   "outputs": [
    {
     "data": {
      "text/plain": [
       "([50256,\n",
       "  7975,\n",
       "  525,\n",
       "  23914,\n",
       "  1847,\n",
       "  16284,\n",
       "  259,\n",
       "  16668,\n",
       "  16149,\n",
       "  26858,\n",
       "  75,\n",
       "  8040,\n",
       "  50256],\n",
       " [3, 5, 6, 8, 9, 11])"
      ]
     },
     "execution_count": 4,
     "metadata": {},
     "output_type": "execute_result"
    }
   ],
   "source": [
    "def encode(string):\n",
    "    ids, breakpoints = [], []\n",
    "    spl = string.split()\n",
    "    for tok in spl:\n",
    "        encoded = tokenizer.encode(tok)\n",
    "        ids.extend(encoded)\n",
    "        breakpoints.append(len(ids) + 1)\n",
    "    ids = [tokenizer.bos_token_id] + ids + [tokenizer.eos_token_id]\n",
    "    return ids, breakpoints\n",
    "    \n",
    "encode(\"Outperforms ALIGN in supervised entity linking\")"
   ]
  },
  {
   "cell_type": "code",
   "execution_count": 5,
   "metadata": {},
   "outputs": [],
   "source": [
    "taskC_train = []\n",
    "with open (\"data/subtaskA_train_monolingual.jsonl\", \"r\", encoding=\"utf-8\") as f:\n",
    "    for line in f:\n",
    "        if line:\n",
    "            parsed = json.loads(line)\n",
    "            taskC_train.append((parsed[\"text\"], parsed[\"label\"], parsed[\"id\"]))\n",
    "        "
   ]
  },
  {
   "cell_type": "code",
   "execution_count": 6,
   "metadata": {},
   "outputs": [],
   "source": [
    "def perplexity(logits, labels):\n",
    "    sm = log_softmax(logits, dim=-1)\n",
    "    probs = []\n",
    "    for i in range(labels.shape[1] - 1):\n",
    "        next_idx = labels[0, i + 1].item()\n",
    "        scores = sm[0, i, :]\n",
    "        prob_next_idx = scores[next_idx].item()\n",
    "        probs.append(prob_next_idx)\n",
    "\n",
    "    probs = np.array(probs)\n",
    "    probs = np.sum(probs)\n",
    "    l = labels.shape[1] - 1\n",
    "    ppl = - (1 / l) * np.sum(probs)\n",
    "    return np.exp(ppl)"
   ]
  },
  {
   "cell_type": "code",
   "execution_count": 9,
   "metadata": {},
   "outputs": [
    {
     "name": "stderr",
     "output_type": "stream",
     "text": [
      "100%|██████████| 100/100 [20:57<00:00, 12.57s/it]\n"
     ]
    }
   ],
   "source": [
    "result = []\n",
    "window_size = 1024\n",
    "slide_amount = 256\n",
    "random.shuffle(taskC_train)\n",
    "firstk = taskC_train[:100]\n",
    "\n",
    "for i, (text, label, id) in tqdm(enumerate(firstk), total=len(firstk)):\n",
    "    input_ids, breakpoints = encode(text)\n",
    "    perplexities = []\n",
    "    if len(input_ids) > window_size:\n",
    "        window_start = 0\n",
    "        window_end = window_size\n",
    "        window = input_ids[window_start:window_end]\n",
    "        out = model(torch.tensor(window).unsqueeze(0))\n",
    "        for bp in breakpoints:\n",
    "            if (bp + 1) > window_end:\n",
    "                window_start += slide_amount\n",
    "                window_end += slide_amount\n",
    "                window = input_ids[window_start:window_end]\n",
    "            bp = bp - window_start\n",
    "            partiad_ids = window[0:bp + 1]\n",
    "            partiad_ids = torch.tensor(partiad_ids).unsqueeze(0)\n",
    "            partial_logits = out.logits[:, 0:bp + 1, :]\n",
    "            try:\n",
    "                ppl = perplexity(partial_logits, partiad_ids)\n",
    "                perplexities.append(ppl)\n",
    "            except:\n",
    "                print(partiad_ids.shape, partial_logits.shape, bp, window_start, window_end, len(input_ids))\n",
    "    else:\n",
    "        input_ids = torch.tensor(input_ids).unsqueeze(0)\n",
    "        out = model(input_ids)\n",
    "        for bp in breakpoints:\n",
    "            partiad_ids = input_ids[:, 0:bp + 1]\n",
    "            partial_logits = out.logits[:, 0:bp + 1, :]\n",
    "            ppl = perplexity(partial_logits, partiad_ids)\n",
    "            perplexities.append(ppl)\n",
    "    result.append(perplexities)\n",
    "        \n",
    "    "
   ]
  },
  {
   "cell_type": "code",
   "execution_count": null,
   "metadata": {},
   "outputs": [],
   "source": [
    "with open(\"data/taskA_perplexities.json\", \"w\", encoding=\"utf-8\") as f:\n",
    "    json.dump(result, f, indent=4)"
   ]
  }
 ],
 "metadata": {
  "kernelspec": {
   "display_name": "env",
   "language": "python",
   "name": "python3"
  },
  "language_info": {
   "codemirror_mode": {
    "name": "ipython",
    "version": 3
   },
   "file_extension": ".py",
   "mimetype": "text/x-python",
   "name": "python",
   "nbconvert_exporter": "python",
   "pygments_lexer": "ipython3",
   "version": "3.11.4"
  }
 },
 "nbformat": 4,
 "nbformat_minor": 2
}
