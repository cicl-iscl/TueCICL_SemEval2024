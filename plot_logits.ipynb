{
 "cells": [
  {
   "cell_type": "code",
   "execution_count": 1,
   "metadata": {},
   "outputs": [
    {
     "name": "stderr",
     "output_type": "stream",
     "text": [
      "/Users/aron/codebase/uniwork/cicl/env/lib/python3.11/site-packages/tqdm/auto.py:21: TqdmWarning: IProgress not found. Please update jupyter and ipywidgets. See https://ipywidgets.readthedocs.io/en/stable/user_install.html\n",
      "  from .autonotebook import tqdm as notebook_tqdm\n"
     ]
    }
   ],
   "source": [
    "from transformers import GPT2Tokenizer, AutoModelForCausalLM\n",
    "from torch.nn.functional import log_softmax\n",
    "import torch\n",
    "import numpy as np\n",
    "import json\n",
    "from matplotlib import pyplot as plt\n",
    "from tqdm import tqdm\n",
    "import math"
   ]
  },
  {
   "cell_type": "code",
   "execution_count": 2,
   "metadata": {},
   "outputs": [],
   "source": [
    "taskC_train = []\n",
    "with open (\"data/subtaskC_train.jsonl\", \"r\", encoding=\"utf-8\") as f:\n",
    "    for line in f:\n",
    "        if line:\n",
    "            parsed = json.loads(line)\n",
    "            taskC_train.append((parsed[\"text\"], parsed[\"label\"], parsed[\"id\"]))\n",
    "        "
   ]
  },
  {
   "cell_type": "code",
   "execution_count": 3,
   "metadata": {},
   "outputs": [],
   "source": [
    "perplexities = None\n",
    "with open(\"src/data/perplexities.json\", \"r\") as f:\n",
    "    perplexities = json.load(f)"
   ]
  },
  {
   "cell_type": "code",
   "execution_count": 30,
   "metadata": {},
   "outputs": [],
   "source": [
    "\n",
    "def rolling_avg(arr, window_size=10):\n",
    "    r = []\n",
    "    i = 0\n",
    "    while i < len(arr):\n",
    "        mid = window_size // 2\n",
    "        start = max(i - mid, 0)\n",
    "        end = min(i + mid, len(arr) + 1)\n",
    "        current = sum(arr[start:end]) / (end - start)\n",
    "        r.append(current)\n",
    "        i += 1\n",
    "    return r    "
   ]
  },
  {
   "cell_type": "code",
   "execution_count": 66,
   "metadata": {},
   "outputs": [],
   "source": [
    "def rolling_variance(arr, window_size=10):\n",
    "    r = []\n",
    "    i = 0\n",
    "    while i < len(arr):\n",
    "        mid = window_size // 2\n",
    "        start = max(i - mid, 0)\n",
    "        end = min(i + mid, len(arr) + 1)\n",
    "        current = np.var(arr[start:end])\n",
    "        r.append(current)\n",
    "        i += 1\n",
    "    return r"
   ]
  },
  {
   "cell_type": "code",
   "execution_count": 71,
   "metadata": {},
   "outputs": [
    {
     "data": {
      "image/png": "[encoded data removed]",
      "text/plain": [
       "<Figure size 640x480 with 1 Axes>"
      ]
     },
     "metadata": {},
     "output_type": "display_data"
    }
   ],
   "source": [
    "ith_doc = 3\n",
    "\n",
    "boundary = taskC_train[ith_doc][1]\n",
    "\n",
    "x = []\n",
    "y = []\n",
    "for i in range(len(perplexities[ith_doc])):\n",
    "    x.append(i)\n",
    "    y.append(perplexities[ith_doc][i])\n",
    "    \n",
    "# y = rolling_avg(y, 5)\n",
    "y = rolling_variance(y, 5)\n",
    "\n",
    "plt.plot(x, y)\n",
    "plt.xlabel(\"Timestep\")\n",
    "plt.ylabel(\"Perplexity\")\n",
    "plt.title(f\"Perplexity over time, document {ith_doc}\")\n",
    "plt.axvline(x=boundary, color=\"red\", linestyle=\"--\", label=\"boundary\")\n",
    "plt.show()"
   ]
  },
  {
   "cell_type": "code",
   "execution_count": null,
   "metadata": {},
   "outputs": [],
   "source": []
  }
 ],
 "metadata": {
  "kernelspec": {
   "display_name": "env",
   "language": "python",
   "name": "python3"
  },
  "language_info": {
   "codemirror_mode": {
    "name": "ipython",
    "version": 3
   },
   "file_extension": ".py",
   "mimetype": "text/x-python",
   "name": "python",
   "nbconvert_exporter": "python",
   "pygments_lexer": "ipython3",
   "version": "3.11.4"
  }
 },
 "nbformat": 4,
 "nbformat_minor": 2
}
