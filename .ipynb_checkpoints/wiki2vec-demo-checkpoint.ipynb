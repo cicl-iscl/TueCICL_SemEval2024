{
 "cells": [
  {
   "cell_type": "code",
   "execution_count": 1,
   "metadata": {},
   "outputs": [],
   "source": [
    "import torch\n",
    "import torch.nn as nn"
   ]
  },
  {
   "cell_type": "code",
   "execution_count": 8,
   "metadata": {},
   "outputs": [],
   "source": [
    "word2idx = {}\n",
    "idx2word = {}\n",
    "emb_raw = []\n",
    "\n",
    "with open(\"wiki2vec/enwiki_20180420_500d.txt\") as f:\n",
    "    next(f)\n",
    "    for i, line in enumerate(f):\n",
    "        if not line:\n",
    "            continue\n",
    "        try:\n",
    "            spl = line.split()\n",
    "            vec = [float(x) for x in spl[-500:]]\n",
    "            word = \" \".join(spl[:-500])\n",
    "            emb_raw.append(vec)\n",
    "            word2idx[word] = i\n",
    "            idx2word[i] = word\n",
    "        except Exception as e: \n",
    "            print(e)\n",
    "            print(line)\n",
    "\n",
    "\n",
    "        "
   ]
  },
  {
   "cell_type": "code",
   "execution_count": 9,
   "metadata": {},
   "outputs": [],
   "source": [
    "PAD = \"<PAD>\"\n",
    "UNK = \"<UNK>\"\n",
    "word2idx[PAD] = len(word2idx)\n",
    "word2idx[UNK] = len(word2idx)\n",
    "idx2word[len(idx2word)] = PAD\n",
    "idx2word[len(idx2word)] = UNK\n",
    "emb_raw.append([0.0]*500)\n",
    "emb_raw.append([0.0]*500)"
   ]
  },
  {
   "cell_type": "code",
   "execution_count": 12,
   "metadata": {},
   "outputs": [],
   "source": [
    "import pickle\n",
    "with open(\"wiki2vec/dump.pkl\", \"wb\") as f:\n",
    "    pickle.dump((word2idx, idx2word, emb_raw), f)"
   ]
  },
  {
   "cell_type": "code",
   "execution_count": 10,
   "metadata": {},
   "outputs": [
    {
     "ename": "ValueError",
     "evalue": "expected sequence of length 300 at dim 1 (got 500)",
     "output_type": "error",
     "traceback": [
      "\u001b[0;31m---------------------------------------------------------------------------\u001b[0m",
      "\u001b[0;31mValueError\u001b[0m                                Traceback (most recent call last)",
      "Cell \u001b[0;32mIn[10], line 3\u001b[0m\n\u001b[1;32m      1\u001b[0m \u001b[38;5;28;01mimport\u001b[39;00m \u001b[38;5;21;01mpickle\u001b[39;00m\n\u001b[1;32m      2\u001b[0m \u001b[38;5;28;01mwith\u001b[39;00m \u001b[38;5;28mopen\u001b[39m(\u001b[38;5;124m\"\u001b[39m\u001b[38;5;124mwiki2vec/dump_500_t.pkl\u001b[39m\u001b[38;5;124m\"\u001b[39m, \u001b[38;5;124m\"\u001b[39m\u001b[38;5;124mwb\u001b[39m\u001b[38;5;124m\"\u001b[39m) \u001b[38;5;28;01mas\u001b[39;00m f:\n\u001b[0;32m----> 3\u001b[0m     t \u001b[38;5;241m=\u001b[39m \u001b[43mtorch\u001b[49m\u001b[38;5;241;43m.\u001b[39;49m\u001b[43mtensor\u001b[49m\u001b[43m(\u001b[49m\u001b[43memb_raw\u001b[49m\u001b[43m)\u001b[49m\n\u001b[1;32m      4\u001b[0m     pickle\u001b[38;5;241m.\u001b[39mdump((word2idx, idx2word, t), f)\n",
      "\u001b[0;31mValueError\u001b[0m: expected sequence of length 300 at dim 1 (got 500)"
     ]
    }
   ],
   "source": [
    "import pickle\n",
    "with open(\"wiki2vec/dump_500_t.pkl\", \"wb\") as f:\n",
    "    t = torch.tensor(emb_raw)\n",
    "    pickle.dump((word2idx, idx2word, t), f)"
   ]
  }
 ],
 "metadata": {
  "kernelspec": {
   "display_name": "Python 3 (ipykernel)",
   "language": "python",
   "name": "python3"
  },
  "language_info": {
   "codemirror_mode": {
    "name": "ipython",
    "version": 3
   },
   "file_extension": ".py",
   "mimetype": "text/x-python",
   "name": "python",
   "nbconvert_exporter": "python",
   "pygments_lexer": "ipython3",
   "version": "3.8.10"
  }
 },
 "nbformat": 4,
 "nbformat_minor": 4
}
